{
 "cells": [
  {
   "cell_type": "code",
   "execution_count": 21,
   "id": "2844e171",
   "metadata": {},
   "outputs": [],
   "source": [
    "import os\n",
    "import torch\n",
    "import torchvision\n",
    "import tarfile\n",
    "import torch.nn as nn\n",
    "import numpy as np\n",
    "import torch.nn.functional as F\n",
    "from torchvision.datasets.utils import download_url\n",
    "from torchvision.datasets import ImageFolder\n",
    "from torch.utils.data import DataLoader\n",
    "import torchvision.transforms as tt\n",
    "from torch.utils.data import random_split\n",
    "from torchvision.utils import make_grid\n",
    "import matplotlib\n",
    "import matplotlib.pyplot as plt\n",
    "%matplotlib inline\n",
    "\n",
    "matplotlib.rcParams['figure.facecolor'] = '#ffffff'"
   ]
  },
  {
   "cell_type": "code",
   "execution_count": 22,
   "id": "5a5f93a9",
   "metadata": {},
   "outputs": [],
   "source": [
    "project_name='05b-cifar10-resnet'"
   ]
  },
  {
   "cell_type": "markdown",
   "id": "cf1ec52d",
   "metadata": {},
   "source": [
    "## Downloading dataset"
   ]
  },
  {
   "cell_type": "code",
   "execution_count": 23,
   "id": "e6f59483",
   "metadata": {
    "scrolled": true
   },
   "outputs": [
    {
     "name": "stdout",
     "output_type": "stream",
     "text": [
      "Using downloaded and verified file: ./cifar10.tgz\n"
     ]
    }
   ],
   "source": [
    "from torchvision.datasets.utils import download_url\n",
    "\n",
    "\n",
    "# Dowload the dataset\n",
    "dataset_url = \"https://s3.amazonaws.com/fast-ai-imageclas/cifar10.tgz\"\n",
    "download_url(dataset_url, '.')\n",
    "\n",
    "\n",
    "    \n"
   ]
  },
  {
   "cell_type": "markdown",
   "id": "59ea6d67",
   "metadata": {},
   "source": [
    "## Printing the classes present in Dataset"
   ]
  },
  {
   "cell_type": "code",
   "execution_count": 24,
   "id": "978e47c0",
   "metadata": {
    "scrolled": false
   },
   "outputs": [
    {
     "name": "stdout",
     "output_type": "stream",
     "text": [
      "['tinyTrain', 'train', 'test']\n",
      "['deer', 'truck', 'ship', 'horse', 'bird', 'airplane', 'frog', 'automobile', 'dog', 'cat']\n"
     ]
    }
   ],
   "source": [
    "# Look into the data directory\n",
    "data_dir = './data/cifar10'\n",
    "print(os.listdir(data_dir))\n",
    "classes = os.listdir(data_dir + \"/train\")\n",
    "print(classes)\n"
   ]
  },
  {
   "cell_type": "markdown",
   "id": "3d29de92",
   "metadata": {},
   "source": [
    "## Normalising the dataset"
   ]
  },
  {
   "cell_type": "code",
   "execution_count": 25,
   "id": "20b2bb4b",
   "metadata": {},
   "outputs": [],
   "source": [
    "stats=((0.4914,0.4822,0.4465),(0.2023,0.1994,0.2010))\n",
    "train_tfms=tt.Compose([tt.ToTensor(),tt.Normalize(*stats,inplace=True)])\n",
    "valid_tfms=tt.Compose([tt.ToTensor(),tt.Normalize(*stats)])"
   ]
  },
  {
   "cell_type": "markdown",
   "id": "554c0072",
   "metadata": {},
   "source": [
    "## Loading the dataset"
   ]
  },
  {
   "cell_type": "code",
   "execution_count": 26,
   "id": "98e64b50",
   "metadata": {},
   "outputs": [],
   "source": [
    "train_ds=ImageFolder(data_dir+'/train',train_tfms)\n",
    "valid_ds=ImageFolder(data_dir+'/test',valid_tfms)"
   ]
  },
  {
   "cell_type": "code",
   "execution_count": 27,
   "id": "d1d08bf4",
   "metadata": {},
   "outputs": [
    {
     "data": {
      "text/plain": [
       "Dataset ImageFolder\n",
       "    Number of datapoints: 50000\n",
       "    Root location: ./data/cifar10/train\n",
       "    StandardTransform\n",
       "Transform: Compose(\n",
       "               ToTensor()\n",
       "               Normalize(mean=(0.4914, 0.4822, 0.4465), std=(0.2023, 0.1994, 0.201))\n",
       "           )"
      ]
     },
     "execution_count": 27,
     "metadata": {},
     "output_type": "execute_result"
    }
   ],
   "source": [
    "train_ds"
   ]
  },
  {
   "cell_type": "code",
   "execution_count": 28,
   "id": "d00b8c92",
   "metadata": {},
   "outputs": [],
   "source": [
    "batch_size=400"
   ]
  },
  {
   "cell_type": "code",
   "execution_count": 29,
   "id": "cfaddcb1",
   "metadata": {},
   "outputs": [],
   "source": [
    "train_loader=DataLoader(train_ds,batch_size,shuffle=True,num_workers=3,pin_memory=True)\n",
    "val_loader=DataLoader(valid_ds,batch_size*2,num_workers=3,pin_memory=2)"
   ]
  },
  {
   "cell_type": "markdown",
   "id": "34c2cfdb",
   "metadata": {},
   "source": [
    "## Selecting GPU"
   ]
  },
  {
   "cell_type": "code",
   "execution_count": 30,
   "id": "bb5b006f",
   "metadata": {},
   "outputs": [],
   "source": [
    "    if torch.cuda.is_available():\n",
    "        return torch.device('cuda')\n",
    "    else:\n",
    "    \n",
    "        return torch.device('cpu')\n",
    "def to_device(data, device):\n",
    "    \"\"\"Move tensor(s) to chosen device\"\"\"\n",
    "    if isinstance(data, (list,tuple)):\n",
    "        return [to_device(x, device) for x in data]\n",
    "    return data.to(device, non_blocking=True)\n",
    "class DeviceDataLoader():\n",
    "    \"\"\"Wrap a dataloader to move data to a device\"\"\"\n",
    "    def __init__(self, dl,device):\n",
    "        self.dl = dl\n",
    "        self.device = device\n",
    "    def __iter__(self):\n",
    "        \"\"\"Yield a batch of data after moving it to device\"\"\"\n",
    "        for b in self.dl: \n",
    "            yield to_device(b, self.device) \n",
    "        \n",
    "    \n",
    "\n",
    "    def __len__(self):\n",
    "        \"\"\"Number of batches\"\"\"\n",
    "        return len(self.dl)"
   ]
  },
  {
   "cell_type": "code",
   "execution_count": 31,
   "id": "6e0b3df5",
   "metadata": {},
   "outputs": [
    {
     "data": {
      "text/plain": [
       "device(type='cuda')"
      ]
     },
     "execution_count": 31,
     "metadata": {},
     "output_type": "execute_result"
    }
   ],
   "source": [
    "device = get_default_device()\n",
    "device"
   ]
  },
  {
   "cell_type": "code",
   "execution_count": 32,
   "id": "9223db23",
   "metadata": {},
   "outputs": [],
   "source": [
    "train_dl=DeviceDataLoader(train_loader,device)\n",
    "valid_dl=DeviceDataLoader(val_loader,device)"
   ]
  },
  {
   "cell_type": "code",
   "execution_count": 33,
   "id": "e30242f1",
   "metadata": {},
   "outputs": [],
   "source": [
    "def accuracy(outputs, labels):\n",
    "    _, preds = torch.max(outputs, dim=1)\n",
    "    return torch.tensor(torch.sum(preds == labels).item() / len(preds))\n",
    "\n",
    "class ImageClassificationBase(nn.Module):\n",
    "    def training_step(self, batch):\n",
    "        images, labels = batch \n",
    "        out = self(images)                  # Generate predictions\n",
    "        loss = F.cross_entropy(out, labels) # Calculate loss\n",
    "        return loss\n",
    "    \n",
    "    def validation_step(self, batch):\n",
    "        images, labels = batch \n",
    "        out = self(images)                    # Generate predictions\n",
    "        loss = F.cross_entropy(out, labels)   # Calculate loss\n",
    "        acc = accuracy(out, labels)           # Calculate accuracy\n",
    "        return {'val_loss': loss.detach(), 'val_acc': acc}\n",
    "        \n",
    "    def validation_epoch_end(self, outputs):\n",
    "        batch_losses = [x['val_loss'] for x in outputs]\n",
    "        epoch_loss = torch.stack(batch_losses).mean()   # Combine losses\n",
    "        batch_accs = [x['val_acc'] for x in outputs]\n",
    "        epoch_acc = torch.stack(batch_accs).mean()      # Combine accuracies\n",
    "        return {'val_loss': epoch_loss.item(), 'val_acc': epoch_acc.item()}\n",
    "    \n",
    "    def epoch_end(self, epoch, result):\n",
    "        print(\"Epoch [{}], last_lr: {:.5f}, train_loss: {:.4f}, val_loss: {:.4f}, val_acc: {:.4f}\".format(\n",
    "            epoch, result['lrs'][-1], result['train_loss'], result['val_loss'], result['val_acc']))"
   ]
  },
  {
   "cell_type": "markdown",
   "id": "98033385",
   "metadata": {},
   "source": [
    "## Model"
   ]
  },
  {
   "cell_type": "code",
   "execution_count": 34,
   "id": "6a8ea05e",
   "metadata": {},
   "outputs": [
    {
     "data": {
      "text/plain": [
       "ResNet(\n",
       "  (conv1): Conv2d(3, 64, kernel_size=(7, 7), stride=(2, 2), padding=(3, 3), bias=False)\n",
       "  (bn1): BatchNorm2d(64, eps=1e-05, momentum=0.1, affine=True, track_running_stats=True)\n",
       "  (relu): ReLU()\n",
       "  (maxpool): MaxPool2d(kernel_size=3, stride=2, padding=1, dilation=1, ceil_mode=False)\n",
       "  (layer1): Sequential(\n",
       "    (0): block(\n",
       "      (conv1): Conv2d(64, 64, kernel_size=(3, 3), stride=(1, 1), padding=(1, 1), bias=False)\n",
       "      (bn1): BatchNorm2d(64, eps=1e-05, momentum=0.1, affine=True, track_running_stats=True)\n",
       "      (conv2): Conv2d(64, 64, kernel_size=(3, 3), stride=(1, 1), padding=(1, 1), bias=False)\n",
       "      (bn2): BatchNorm2d(64, eps=1e-05, momentum=0.1, affine=True, track_running_stats=True)\n",
       "      (relu): ReLU()\n",
       "      (identity_downsample): Sequential(\n",
       "        (0): Conv2d(64, 64, kernel_size=(1, 1), stride=(1, 1), bias=False)\n",
       "        (1): BatchNorm2d(64, eps=1e-05, momentum=0.1, affine=True, track_running_stats=True)\n",
       "      )\n",
       "    )\n",
       "    (1): block(\n",
       "      (conv1): Conv2d(64, 64, kernel_size=(3, 3), stride=(1, 1), padding=(1, 1), bias=False)\n",
       "      (bn1): BatchNorm2d(64, eps=1e-05, momentum=0.1, affine=True, track_running_stats=True)\n",
       "      (conv2): Conv2d(64, 64, kernel_size=(3, 3), stride=(1, 1), padding=(1, 1), bias=False)\n",
       "      (bn2): BatchNorm2d(64, eps=1e-05, momentum=0.1, affine=True, track_running_stats=True)\n",
       "      (relu): ReLU()\n",
       "    )\n",
       "  )\n",
       "  (layer2): Sequential(\n",
       "    (0): block(\n",
       "      (conv1): Conv2d(64, 128, kernel_size=(3, 3), stride=(2, 2), padding=(1, 1), bias=False)\n",
       "      (bn1): BatchNorm2d(128, eps=1e-05, momentum=0.1, affine=True, track_running_stats=True)\n",
       "      (conv2): Conv2d(128, 128, kernel_size=(3, 3), stride=(1, 1), padding=(1, 1), bias=False)\n",
       "      (bn2): BatchNorm2d(128, eps=1e-05, momentum=0.1, affine=True, track_running_stats=True)\n",
       "      (relu): ReLU()\n",
       "      (identity_downsample): Sequential(\n",
       "        (0): Conv2d(64, 128, kernel_size=(1, 1), stride=(2, 2), bias=False)\n",
       "        (1): BatchNorm2d(128, eps=1e-05, momentum=0.1, affine=True, track_running_stats=True)\n",
       "      )\n",
       "    )\n",
       "    (1): block(\n",
       "      (conv1): Conv2d(128, 128, kernel_size=(3, 3), stride=(1, 1), padding=(1, 1), bias=False)\n",
       "      (bn1): BatchNorm2d(128, eps=1e-05, momentum=0.1, affine=True, track_running_stats=True)\n",
       "      (conv2): Conv2d(128, 128, kernel_size=(3, 3), stride=(1, 1), padding=(1, 1), bias=False)\n",
       "      (bn2): BatchNorm2d(128, eps=1e-05, momentum=0.1, affine=True, track_running_stats=True)\n",
       "      (relu): ReLU()\n",
       "    )\n",
       "  )\n",
       "  (layer3): Sequential(\n",
       "    (0): block(\n",
       "      (conv1): Conv2d(128, 256, kernel_size=(3, 3), stride=(2, 2), padding=(1, 1), bias=False)\n",
       "      (bn1): BatchNorm2d(256, eps=1e-05, momentum=0.1, affine=True, track_running_stats=True)\n",
       "      (conv2): Conv2d(256, 256, kernel_size=(3, 3), stride=(1, 1), padding=(1, 1), bias=False)\n",
       "      (bn2): BatchNorm2d(256, eps=1e-05, momentum=0.1, affine=True, track_running_stats=True)\n",
       "      (relu): ReLU()\n",
       "      (identity_downsample): Sequential(\n",
       "        (0): Conv2d(128, 256, kernel_size=(1, 1), stride=(2, 2), bias=False)\n",
       "        (1): BatchNorm2d(256, eps=1e-05, momentum=0.1, affine=True, track_running_stats=True)\n",
       "      )\n",
       "    )\n",
       "    (1): block(\n",
       "      (conv1): Conv2d(256, 256, kernel_size=(3, 3), stride=(1, 1), padding=(1, 1), bias=False)\n",
       "      (bn1): BatchNorm2d(256, eps=1e-05, momentum=0.1, affine=True, track_running_stats=True)\n",
       "      (conv2): Conv2d(256, 256, kernel_size=(3, 3), stride=(1, 1), padding=(1, 1), bias=False)\n",
       "      (bn2): BatchNorm2d(256, eps=1e-05, momentum=0.1, affine=True, track_running_stats=True)\n",
       "      (relu): ReLU()\n",
       "    )\n",
       "  )\n",
       "  (layer4): Sequential(\n",
       "    (0): block(\n",
       "      (conv1): Conv2d(256, 512, kernel_size=(3, 3), stride=(2, 2), padding=(1, 1), bias=False)\n",
       "      (bn1): BatchNorm2d(512, eps=1e-05, momentum=0.1, affine=True, track_running_stats=True)\n",
       "      (conv2): Conv2d(512, 512, kernel_size=(3, 3), stride=(1, 1), padding=(1, 1), bias=False)\n",
       "      (bn2): BatchNorm2d(512, eps=1e-05, momentum=0.1, affine=True, track_running_stats=True)\n",
       "      (relu): ReLU()\n",
       "      (identity_downsample): Sequential(\n",
       "        (0): Conv2d(256, 512, kernel_size=(1, 1), stride=(2, 2), bias=False)\n",
       "        (1): BatchNorm2d(512, eps=1e-05, momentum=0.1, affine=True, track_running_stats=True)\n",
       "      )\n",
       "    )\n",
       "    (1): block(\n",
       "      (conv1): Conv2d(512, 512, kernel_size=(3, 3), stride=(1, 1), padding=(1, 1), bias=False)\n",
       "      (bn1): BatchNorm2d(512, eps=1e-05, momentum=0.1, affine=True, track_running_stats=True)\n",
       "      (conv2): Conv2d(512, 512, kernel_size=(3, 3), stride=(1, 1), padding=(1, 1), bias=False)\n",
       "      (bn2): BatchNorm2d(512, eps=1e-05, momentum=0.1, affine=True, track_running_stats=True)\n",
       "      (relu): ReLU()\n",
       "    )\n",
       "  )\n",
       "  (avgpool): AdaptiveAvgPool2d(output_size=(1, 1))\n",
       "  (fc): Linear(in_features=512, out_features=10, bias=True)\n",
       ")"
      ]
     },
     "execution_count": 34,
     "metadata": {},
     "output_type": "execute_result"
    }
   ],
   "source": [
    "class block(nn.Module):\n",
    "    def __init__(self,in_channels=64,intermediate_channels=64,identity_downsample=None,stride=1):\n",
    "        super(block,self).__init__()\n",
    "        self.conv1=nn.Conv2d(in_channels,intermediate_channels,kernel_size=3,stride=stride,\n",
    "                             padding=1,bias=False)\n",
    "        self.bn1=nn.BatchNorm2d(intermediate_channels)\n",
    "        self.conv2=nn.Conv2d(intermediate_channels,intermediate_channels,kernel_size=3,\n",
    "                             stride=1,\n",
    "                             padding=1,\n",
    "                             bias=False\n",
    "                            )\n",
    "        self.bn2=nn.BatchNorm2d(intermediate_channels)\n",
    "        self.relu=nn.ReLU()\n",
    "        self.identity_downsample=identity_downsample\n",
    "        self.stride=stride\n",
    "        \n",
    "    def forward(self,x):\n",
    "        identity=x.clone()\n",
    "        \n",
    "        x=self.conv1(x)\n",
    "        x=self.bn1(x)\n",
    "        x=self.relu(x)\n",
    "        \n",
    "        x=self.conv2(x)\n",
    "        x=self.bn2(x)\n",
    "        \n",
    "        \n",
    "        if self.identity_downsample is not None:\n",
    "            identity=self.identity_downsample(identity)\n",
    "        \n",
    "       \n",
    "        x+=identity\n",
    "        \n",
    "        x=self.relu(x)\n",
    "        return x\n",
    "    \n",
    "    \n",
    "    \n",
    "class ResNet(ImageClassificationBase):\n",
    "    def __init__(self,block,layers,image_channels,num_classes):\n",
    "        super(ResNet,self).__init__()\n",
    "        self.in_channels=64\n",
    "        self.conv1=nn.Conv2d(image_channels,64,kernel_size=7,stride=2,padding=3,bias=False)\n",
    "        self.bn1=nn.BatchNorm2d(64)\n",
    "        self.relu=nn.ReLU()\n",
    "        self.maxpool=nn.MaxPool2d(kernel_size=3,stride=2,padding=1)\n",
    "        \n",
    "        self.layer1=self._make_layer( block,layers[0],intermediate_channels=64,stride=1)\n",
    "        self.layer2=self._make_layer(block,layers[1],intermediate_channels=128,stride=2)\n",
    "        self.layer3=self._make_layer(block,layers[2],intermediate_channels=256,stride=2)\n",
    "        self.layer4=self._make_layer(block,layers[3],intermediate_channels=512,stride=2)\n",
    "        \n",
    "        self.avgpool=nn.AdaptiveAvgPool2d((1,1))\n",
    "        self.fc=nn.Linear(512 , num_classes )\n",
    "        \n",
    "    def forward(self,x):\n",
    "        x=self.conv1(x)\n",
    "        x=self.bn1(x)\n",
    "        x=self.relu(x)\n",
    "        x=self.maxpool(x)\n",
    "        x=self.layer1(x)\n",
    "        x=self.layer2(x)\n",
    "        x=self.layer3(x)\n",
    "        x=self.layer4(x)\n",
    "        \n",
    "        x=self.avgpool(x)\n",
    "        x=x.reshape(x.shape[0],-1)\n",
    "        x=self.fc(x)\n",
    "        \n",
    "        x=F.softmax(x,dim=1)\n",
    "        \n",
    "        return x\n",
    "    \n",
    "    def _make_layer(self,block, num_residual_blocks,intermediate_channels,stride):\n",
    "        identity_downsample=None\n",
    "        layers=[]\n",
    "        \n",
    "        #if stride!=1 or self.in_channels!=intermediate_channels:\n",
    "        identity_downsample=nn.Sequential(\n",
    "            nn.Conv2d(\n",
    "                self.in_channels,\n",
    "                intermediate_channels,\n",
    "                kernel_size=1,\n",
    "                stride=stride,\n",
    "                bias=False\n",
    "            ),\n",
    "            nn.BatchNorm2d(intermediate_channels),\n",
    "            \n",
    "        )\n",
    "        \n",
    "        layers.append(\n",
    "            block(self.in_channels,intermediate_channels,identity_downsample,stride)\n",
    "        )\n",
    "        \n",
    "        self.in_channels=intermediate_channels\n",
    "        \n",
    "        for i in range(num_residual_blocks-1):\n",
    "            layers.append(block(self.in_channels,intermediate_channels))\n",
    "            \n",
    "        \n",
    "        return nn.Sequential(*layers)\n",
    "    \n",
    "\n",
    "def ResNet18(img_channel=3,num_classes=10):\n",
    "    return ResNet(block,[2,2,2,2],img_channel,num_classes)\n",
    "\n",
    "\n",
    "\n",
    "model=ResNet18(img_channel=3,num_classes=10)\n",
    "\n",
    "    \n",
    "model\n",
    "\n",
    "        \n",
    "        \n",
    "                             \n",
    "            \n",
    "           "
   ]
  },
  {
   "cell_type": "code",
   "execution_count": 36,
   "id": "599df2ba",
   "metadata": {
    "scrolled": true
   },
   "outputs": [
    {
     "data": {
      "text/plain": [
       "ResNet(\n",
       "  (conv1): Conv2d(3, 64, kernel_size=(7, 7), stride=(2, 2), padding=(3, 3), bias=False)\n",
       "  (bn1): BatchNorm2d(64, eps=1e-05, momentum=0.1, affine=True, track_running_stats=True)\n",
       "  (relu): ReLU()\n",
       "  (maxpool): MaxPool2d(kernel_size=3, stride=2, padding=1, dilation=1, ceil_mode=False)\n",
       "  (layer1): Sequential(\n",
       "    (0): block(\n",
       "      (conv1): Conv2d(64, 64, kernel_size=(3, 3), stride=(1, 1), padding=(1, 1), bias=False)\n",
       "      (bn1): BatchNorm2d(64, eps=1e-05, momentum=0.1, affine=True, track_running_stats=True)\n",
       "      (conv2): Conv2d(64, 64, kernel_size=(3, 3), stride=(1, 1), padding=(1, 1), bias=False)\n",
       "      (bn2): BatchNorm2d(64, eps=1e-05, momentum=0.1, affine=True, track_running_stats=True)\n",
       "      (relu): ReLU()\n",
       "      (identity_downsample): Sequential(\n",
       "        (0): Conv2d(64, 64, kernel_size=(1, 1), stride=(1, 1), bias=False)\n",
       "        (1): BatchNorm2d(64, eps=1e-05, momentum=0.1, affine=True, track_running_stats=True)\n",
       "      )\n",
       "    )\n",
       "    (1): block(\n",
       "      (conv1): Conv2d(64, 64, kernel_size=(3, 3), stride=(1, 1), padding=(1, 1), bias=False)\n",
       "      (bn1): BatchNorm2d(64, eps=1e-05, momentum=0.1, affine=True, track_running_stats=True)\n",
       "      (conv2): Conv2d(64, 64, kernel_size=(3, 3), stride=(1, 1), padding=(1, 1), bias=False)\n",
       "      (bn2): BatchNorm2d(64, eps=1e-05, momentum=0.1, affine=True, track_running_stats=True)\n",
       "      (relu): ReLU()\n",
       "    )\n",
       "  )\n",
       "  (layer2): Sequential(\n",
       "    (0): block(\n",
       "      (conv1): Conv2d(64, 128, kernel_size=(3, 3), stride=(2, 2), padding=(1, 1), bias=False)\n",
       "      (bn1): BatchNorm2d(128, eps=1e-05, momentum=0.1, affine=True, track_running_stats=True)\n",
       "      (conv2): Conv2d(128, 128, kernel_size=(3, 3), stride=(1, 1), padding=(1, 1), bias=False)\n",
       "      (bn2): BatchNorm2d(128, eps=1e-05, momentum=0.1, affine=True, track_running_stats=True)\n",
       "      (relu): ReLU()\n",
       "      (identity_downsample): Sequential(\n",
       "        (0): Conv2d(64, 128, kernel_size=(1, 1), stride=(2, 2), bias=False)\n",
       "        (1): BatchNorm2d(128, eps=1e-05, momentum=0.1, affine=True, track_running_stats=True)\n",
       "      )\n",
       "    )\n",
       "    (1): block(\n",
       "      (conv1): Conv2d(128, 128, kernel_size=(3, 3), stride=(1, 1), padding=(1, 1), bias=False)\n",
       "      (bn1): BatchNorm2d(128, eps=1e-05, momentum=0.1, affine=True, track_running_stats=True)\n",
       "      (conv2): Conv2d(128, 128, kernel_size=(3, 3), stride=(1, 1), padding=(1, 1), bias=False)\n",
       "      (bn2): BatchNorm2d(128, eps=1e-05, momentum=0.1, affine=True, track_running_stats=True)\n",
       "      (relu): ReLU()\n",
       "    )\n",
       "  )\n",
       "  (layer3): Sequential(\n",
       "    (0): block(\n",
       "      (conv1): Conv2d(128, 256, kernel_size=(3, 3), stride=(2, 2), padding=(1, 1), bias=False)\n",
       "      (bn1): BatchNorm2d(256, eps=1e-05, momentum=0.1, affine=True, track_running_stats=True)\n",
       "      (conv2): Conv2d(256, 256, kernel_size=(3, 3), stride=(1, 1), padding=(1, 1), bias=False)\n",
       "      (bn2): BatchNorm2d(256, eps=1e-05, momentum=0.1, affine=True, track_running_stats=True)\n",
       "      (relu): ReLU()\n",
       "      (identity_downsample): Sequential(\n",
       "        (0): Conv2d(128, 256, kernel_size=(1, 1), stride=(2, 2), bias=False)\n",
       "        (1): BatchNorm2d(256, eps=1e-05, momentum=0.1, affine=True, track_running_stats=True)\n",
       "      )\n",
       "    )\n",
       "    (1): block(\n",
       "      (conv1): Conv2d(256, 256, kernel_size=(3, 3), stride=(1, 1), padding=(1, 1), bias=False)\n",
       "      (bn1): BatchNorm2d(256, eps=1e-05, momentum=0.1, affine=True, track_running_stats=True)\n",
       "      (conv2): Conv2d(256, 256, kernel_size=(3, 3), stride=(1, 1), padding=(1, 1), bias=False)\n",
       "      (bn2): BatchNorm2d(256, eps=1e-05, momentum=0.1, affine=True, track_running_stats=True)\n",
       "      (relu): ReLU()\n",
       "    )\n",
       "  )\n",
       "  (layer4): Sequential(\n",
       "    (0): block(\n",
       "      (conv1): Conv2d(256, 512, kernel_size=(3, 3), stride=(2, 2), padding=(1, 1), bias=False)\n",
       "      (bn1): BatchNorm2d(512, eps=1e-05, momentum=0.1, affine=True, track_running_stats=True)\n",
       "      (conv2): Conv2d(512, 512, kernel_size=(3, 3), stride=(1, 1), padding=(1, 1), bias=False)\n",
       "      (bn2): BatchNorm2d(512, eps=1e-05, momentum=0.1, affine=True, track_running_stats=True)\n",
       "      (relu): ReLU()\n",
       "      (identity_downsample): Sequential(\n",
       "        (0): Conv2d(256, 512, kernel_size=(1, 1), stride=(2, 2), bias=False)\n",
       "        (1): BatchNorm2d(512, eps=1e-05, momentum=0.1, affine=True, track_running_stats=True)\n",
       "      )\n",
       "    )\n",
       "    (1): block(\n",
       "      (conv1): Conv2d(512, 512, kernel_size=(3, 3), stride=(1, 1), padding=(1, 1), bias=False)\n",
       "      (bn1): BatchNorm2d(512, eps=1e-05, momentum=0.1, affine=True, track_running_stats=True)\n",
       "      (conv2): Conv2d(512, 512, kernel_size=(3, 3), stride=(1, 1), padding=(1, 1), bias=False)\n",
       "      (bn2): BatchNorm2d(512, eps=1e-05, momentum=0.1, affine=True, track_running_stats=True)\n",
       "      (relu): ReLU()\n",
       "    )\n",
       "  )\n",
       "  (avgpool): AdaptiveAvgPool2d(output_size=(1, 1))\n",
       "  (fc): Linear(in_features=512, out_features=10, bias=True)\n",
       ")"
      ]
     },
     "execution_count": 36,
     "metadata": {},
     "output_type": "execute_result"
    }
   ],
   "source": [
    "model = to_device(model, device)\n",
    "model"
   ]
  },
  {
   "cell_type": "markdown",
   "id": "e74a088a",
   "metadata": {},
   "source": [
    "## Functions to run the model\n"
   ]
  },
  {
   "cell_type": "code",
   "execution_count": 37,
   "id": "36e5330b",
   "metadata": {},
   "outputs": [],
   "source": [
    "def evaluate(model, val_loader):\n",
    "    model.eval()\n",
    "    outputs = [model.validation_step(batch) for batch in val_loader]\n",
    "    return model.validation_epoch_end(outputs)\n",
    "\n",
    "def get_lr(optimizer):\n",
    "    for param_group in optimizer.param_groups:\n",
    "        return param_group['lr']\n",
    "\n",
    "def fit_one_cycle(epochs, max_lr, model, train_loader, val_loader, \n",
    "                  weight_decay=0, grad_clip=None, opt_func=torch.optim.SGD):\n",
    "    torch.cuda.empty_cache()\n",
    "    history = []\n",
    "    \n",
    "    # Set up cutom optimizer with weight decay\n",
    "    optimizer = opt_func(model.parameters(), max_lr, weight_decay=weight_decay)\n",
    "    # Set up one-cycle learning rate scheduler\n",
    "    sched = torch.optim.lr_scheduler.OneCycleLR(optimizer, max_lr, epochs=epochs, \n",
    "                                                steps_per_epoch=len(train_loader))\n",
    "    \n",
    "    for epoch in range(epochs):\n",
    "        # Training Phase \n",
    "        model.train()\n",
    "        train_losses = []\n",
    "        lrs = []\n",
    "        for batch in train_loader:\n",
    "            loss = model.training_step(batch)\n",
    "            train_losses.append(loss)\n",
    "            loss.backward()\n",
    "            \n",
    "            # Gradient clipping\n",
    "            if grad_clip: \n",
    "                nn.utils.clip_grad_value_(model.parameters(), grad_clip)\n",
    "            \n",
    "            optimizer.step()\n",
    "            optimizer.zero_grad()\n",
    "            \n",
    "            # Record & update learning rate\n",
    "            lrs.append(get_lr(optimizer))\n",
    "            sched.step()\n",
    "        \n",
    "        # Validation phase\n",
    "        result = evaluate(model, val_loader)\n",
    "        result['train_loss'] = torch.stack(train_losses).mean().item()\n",
    "        result['lrs'] = lrs\n",
    "        model.epoch_end(epoch, result)\n",
    "        history.append(result)\n",
    "    return history"
   ]
  },
  {
   "cell_type": "code",
   "execution_count": 38,
   "id": "ea8fb359",
   "metadata": {},
   "outputs": [
    {
     "data": {
      "text/plain": [
       "[{'val_loss': 2.302757740020752, 'val_acc': 0.09586538374423981}]"
      ]
     },
     "execution_count": 38,
     "metadata": {},
     "output_type": "execute_result"
    }
   ],
   "source": [
    "history = [evaluate(model, valid_dl)]\n",
    "history"
   ]
  },
  {
   "cell_type": "code",
   "execution_count": 39,
   "id": "9357b55c",
   "metadata": {},
   "outputs": [],
   "source": [
    "epochs = 250\n",
    "max_lr = 0.01\n",
    "grad_clip = 0.1\n",
    "weight_decay = 1e-4\n",
    "opt_func = torch.optim.Adam"
   ]
  },
  {
   "cell_type": "code",
   "execution_count": 40,
   "id": "ddad6eef",
   "metadata": {
    "scrolled": false
   },
   "outputs": [
    {
     "name": "stdout",
     "output_type": "stream",
     "text": [
      "Epoch [0], last_lr: 0.00040, train_loss: 2.0232, val_loss: 1.9970, val_acc: 0.4597\n",
      "Epoch [1], last_lr: 0.00042, train_loss: 1.9261, val_loss: 1.9552, val_acc: 0.5011\n",
      "Epoch [2], last_lr: 0.00044, train_loss: 1.8792, val_loss: 1.9055, val_acc: 0.5510\n",
      "Epoch [3], last_lr: 0.00047, train_loss: 1.8495, val_loss: 1.8521, val_acc: 0.6064\n",
      "Epoch [4], last_lr: 0.00050, train_loss: 1.8207, val_loss: 1.8582, val_acc: 0.5987\n",
      "Epoch [5], last_lr: 0.00055, train_loss: 1.8015, val_loss: 1.8129, val_acc: 0.6458\n",
      "Epoch [6], last_lr: 0.00060, train_loss: 1.7840, val_loss: 1.8260, val_acc: 0.6311\n",
      "Epoch [7], last_lr: 0.00067, train_loss: 1.7762, val_loss: 1.8229, val_acc: 0.6366\n",
      "Epoch [8], last_lr: 0.00074, train_loss: 1.7665, val_loss: 1.8361, val_acc: 0.6238\n",
      "Epoch [9], last_lr: 0.00081, train_loss: 1.7486, val_loss: 1.7955, val_acc: 0.6646\n",
      "Epoch [10], last_lr: 0.00090, train_loss: 1.7416, val_loss: 1.8001, val_acc: 0.6600\n",
      "Epoch [11], last_lr: 0.00099, train_loss: 1.7351, val_loss: 1.7689, val_acc: 0.6897\n",
      "Epoch [12], last_lr: 0.00109, train_loss: 1.7316, val_loss: 1.7905, val_acc: 0.6678\n",
      "Epoch [13], last_lr: 0.00120, train_loss: 1.7219, val_loss: 1.7921, val_acc: 0.6670\n",
      "Epoch [14], last_lr: 0.00132, train_loss: 1.7113, val_loss: 1.8361, val_acc: 0.6214\n",
      "Epoch [15], last_lr: 0.00144, train_loss: 1.7108, val_loss: 1.8116, val_acc: 0.6474\n",
      "Epoch [16], last_lr: 0.00157, train_loss: 1.7100, val_loss: 1.7886, val_acc: 0.6713\n",
      "Epoch [17], last_lr: 0.00170, train_loss: 1.6995, val_loss: 1.7954, val_acc: 0.6619\n",
      "Epoch [18], last_lr: 0.00184, train_loss: 1.6923, val_loss: 1.7903, val_acc: 0.6705\n",
      "Epoch [19], last_lr: 0.00199, train_loss: 1.6926, val_loss: 1.7759, val_acc: 0.6841\n",
      "Epoch [20], last_lr: 0.00214, train_loss: 1.6908, val_loss: 1.7616, val_acc: 0.6988\n",
      "Epoch [21], last_lr: 0.00230, train_loss: 1.6970, val_loss: 1.7703, val_acc: 0.6912\n",
      "Epoch [22], last_lr: 0.00246, train_loss: 1.6923, val_loss: 1.7501, val_acc: 0.7111\n",
      "Epoch [23], last_lr: 0.00263, train_loss: 1.6959, val_loss: 1.7548, val_acc: 0.7060\n",
      "Epoch [24], last_lr: 0.00280, train_loss: 1.6954, val_loss: 1.7641, val_acc: 0.6956\n",
      "Epoch [25], last_lr: 0.00298, train_loss: 1.6942, val_loss: 1.7902, val_acc: 0.6699\n",
      "Epoch [26], last_lr: 0.00316, train_loss: 1.6979, val_loss: 1.7835, val_acc: 0.6752\n",
      "Epoch [27], last_lr: 0.00334, train_loss: 1.6972, val_loss: 1.7815, val_acc: 0.6790\n",
      "Epoch [28], last_lr: 0.00353, train_loss: 1.6903, val_loss: 1.7599, val_acc: 0.6986\n",
      "Epoch [29], last_lr: 0.00372, train_loss: 1.6958, val_loss: 1.7565, val_acc: 0.7062\n",
      "Epoch [30], last_lr: 0.00391, train_loss: 1.6960, val_loss: 1.8113, val_acc: 0.6487\n",
      "Epoch [31], last_lr: 0.00410, train_loss: 1.6924, val_loss: 1.7527, val_acc: 0.7063\n",
      "Epoch [32], last_lr: 0.00430, train_loss: 1.6958, val_loss: 1.7719, val_acc: 0.6877\n",
      "Epoch [33], last_lr: 0.00450, train_loss: 1.7104, val_loss: 1.7601, val_acc: 0.6998\n",
      "Epoch [34], last_lr: 0.00470, train_loss: 1.7061, val_loss: 1.7908, val_acc: 0.6678\n",
      "Epoch [35], last_lr: 0.00490, train_loss: 1.7091, val_loss: 1.7826, val_acc: 0.6767\n",
      "Epoch [36], last_lr: 0.00510, train_loss: 1.7108, val_loss: 1.7584, val_acc: 0.7008\n",
      "Epoch [37], last_lr: 0.00530, train_loss: 1.7199, val_loss: 1.7980, val_acc: 0.6616\n",
      "Epoch [38], last_lr: 0.00550, train_loss: 1.7161, val_loss: 1.7964, val_acc: 0.6637\n",
      "Epoch [39], last_lr: 0.00570, train_loss: 1.7266, val_loss: 1.8205, val_acc: 0.6406\n",
      "Epoch [40], last_lr: 0.00590, train_loss: 1.7245, val_loss: 1.7700, val_acc: 0.6891\n",
      "Epoch [41], last_lr: 0.00610, train_loss: 1.7211, val_loss: 1.8333, val_acc: 0.6245\n",
      "Epoch [42], last_lr: 0.00630, train_loss: 1.7264, val_loss: 1.7943, val_acc: 0.6661\n",
      "Epoch [43], last_lr: 0.00649, train_loss: 1.7299, val_loss: 1.8064, val_acc: 0.6531\n",
      "Epoch [44], last_lr: 0.00668, train_loss: 1.7332, val_loss: 1.7993, val_acc: 0.6593\n",
      "Epoch [45], last_lr: 0.00687, train_loss: 1.7264, val_loss: 1.7980, val_acc: 0.6621\n",
      "Epoch [46], last_lr: 0.00706, train_loss: 1.7326, val_loss: 1.7891, val_acc: 0.6699\n",
      "Epoch [47], last_lr: 0.00724, train_loss: 1.7345, val_loss: 1.7643, val_acc: 0.6953\n",
      "Epoch [48], last_lr: 0.00742, train_loss: 1.7360, val_loss: 1.7836, val_acc: 0.6779\n",
      "Epoch [49], last_lr: 0.00760, train_loss: 1.7355, val_loss: 1.8003, val_acc: 0.6594\n",
      "Epoch [50], last_lr: 0.00777, train_loss: 1.7444, val_loss: 1.7869, val_acc: 0.6741\n",
      "Epoch [51], last_lr: 0.00794, train_loss: 1.7442, val_loss: 1.7978, val_acc: 0.6605\n",
      "Epoch [52], last_lr: 0.00810, train_loss: 1.7478, val_loss: 1.8191, val_acc: 0.6392\n",
      "Epoch [53], last_lr: 0.00826, train_loss: 1.7415, val_loss: 1.7675, val_acc: 0.6918\n",
      "Epoch [54], last_lr: 0.00841, train_loss: 1.7435, val_loss: 1.8135, val_acc: 0.6465\n",
      "Epoch [55], last_lr: 0.00856, train_loss: 1.7496, val_loss: 1.8252, val_acc: 0.6327\n",
      "Epoch [56], last_lr: 0.00870, train_loss: 1.7472, val_loss: 1.8146, val_acc: 0.6452\n",
      "Epoch [57], last_lr: 0.00883, train_loss: 1.7466, val_loss: 1.7880, val_acc: 0.6717\n",
      "Epoch [58], last_lr: 0.00896, train_loss: 1.7543, val_loss: 1.8280, val_acc: 0.6312\n",
      "Epoch [59], last_lr: 0.00908, train_loss: 1.7521, val_loss: 1.8246, val_acc: 0.6354\n",
      "Epoch [60], last_lr: 0.00920, train_loss: 1.7619, val_loss: 1.8301, val_acc: 0.6299\n",
      "Epoch [61], last_lr: 0.00931, train_loss: 1.7570, val_loss: 1.8713, val_acc: 0.5878\n",
      "Epoch [62], last_lr: 0.00941, train_loss: 1.7562, val_loss: 1.8665, val_acc: 0.5933\n",
      "Epoch [63], last_lr: 0.00950, train_loss: 1.7503, val_loss: 1.7901, val_acc: 0.6694\n",
      "Epoch [64], last_lr: 0.00958, train_loss: 1.7501, val_loss: 1.7959, val_acc: 0.6635\n",
      "Epoch [65], last_lr: 0.00966, train_loss: 1.7566, val_loss: 1.7977, val_acc: 0.6617\n",
      "Epoch [66], last_lr: 0.00973, train_loss: 1.7550, val_loss: 1.8142, val_acc: 0.6450\n",
      "Epoch [67], last_lr: 0.00980, train_loss: 1.7541, val_loss: 1.7995, val_acc: 0.6601\n",
      "Epoch [68], last_lr: 0.00985, train_loss: 1.7498, val_loss: 1.8106, val_acc: 0.6503\n",
      "Epoch [69], last_lr: 0.00990, train_loss: 1.7500, val_loss: 1.8264, val_acc: 0.6351\n",
      "Epoch [70], last_lr: 0.00993, train_loss: 1.7510, val_loss: 1.7909, val_acc: 0.6695\n",
      "Epoch [71], last_lr: 0.00996, train_loss: 1.7481, val_loss: 1.8209, val_acc: 0.6373\n",
      "Epoch [72], last_lr: 0.00998, train_loss: 1.7475, val_loss: 1.7736, val_acc: 0.6868\n",
      "Epoch [73], last_lr: 0.01000, train_loss: 1.7521, val_loss: 1.8144, val_acc: 0.6464\n",
      "Epoch [74], last_lr: 0.01000, train_loss: 1.7512, val_loss: 1.8463, val_acc: 0.6127\n",
      "Epoch [75], last_lr: 0.01000, train_loss: 1.7526, val_loss: 1.8050, val_acc: 0.6544\n",
      "Epoch [76], last_lr: 0.01000, train_loss: 1.7455, val_loss: 1.8045, val_acc: 0.6561\n",
      "Epoch [77], last_lr: 0.00999, train_loss: 1.7473, val_loss: 1.8002, val_acc: 0.6589\n",
      "Epoch [78], last_lr: 0.00999, train_loss: 1.7511, val_loss: 1.8156, val_acc: 0.6415\n",
      "Epoch [79], last_lr: 0.00998, train_loss: 1.7479, val_loss: 1.8082, val_acc: 0.6514\n",
      "Epoch [80], last_lr: 0.00997, train_loss: 1.7467, val_loss: 1.7836, val_acc: 0.6757\n",
      "Epoch [81], last_lr: 0.00996, train_loss: 1.7442, val_loss: 1.7976, val_acc: 0.6625\n",
      "Epoch [82], last_lr: 0.00995, train_loss: 1.7445, val_loss: 1.8050, val_acc: 0.6539\n",
      "Epoch [83], last_lr: 0.00993, train_loss: 1.7423, val_loss: 1.8087, val_acc: 0.6512\n",
      "Epoch [84], last_lr: 0.00992, train_loss: 1.7388, val_loss: 1.8238, val_acc: 0.6363\n",
      "Epoch [85], last_lr: 0.00990, train_loss: 1.7448, val_loss: 1.7983, val_acc: 0.6592\n",
      "Epoch [86], last_lr: 0.00988, train_loss: 1.7393, val_loss: 1.7687, val_acc: 0.6899\n",
      "Epoch [87], last_lr: 0.00986, train_loss: 1.7382, val_loss: 1.7832, val_acc: 0.6757\n",
      "Epoch [88], last_lr: 0.00984, train_loss: 1.7403, val_loss: 1.7898, val_acc: 0.6693\n",
      "Epoch [89], last_lr: 0.00982, train_loss: 1.7367, val_loss: 1.7832, val_acc: 0.6776\n",
      "Epoch [90], last_lr: 0.00980, train_loss: 1.7410, val_loss: 1.8848, val_acc: 0.5726\n",
      "Epoch [91], last_lr: 0.00977, train_loss: 1.7350, val_loss: 1.8035, val_acc: 0.6562\n",
      "Epoch [92], last_lr: 0.00974, train_loss: 1.7351, val_loss: 1.7673, val_acc: 0.6941\n",
      "Epoch [93], last_lr: 0.00971, train_loss: 1.7313, val_loss: 1.7780, val_acc: 0.6828\n",
      "Epoch [94], last_lr: 0.00968, train_loss: 1.7305, val_loss: 1.7922, val_acc: 0.6695\n",
      "Epoch [95], last_lr: 0.00965, train_loss: 1.7354, val_loss: 1.8086, val_acc: 0.6499\n",
      "Epoch [96], last_lr: 0.00962, train_loss: 1.7327, val_loss: 1.7847, val_acc: 0.6739\n",
      "Epoch [97], last_lr: 0.00958, train_loss: 1.7318, val_loss: 1.7944, val_acc: 0.6652\n"
     ]
    },
    {
     "name": "stdout",
     "output_type": "stream",
     "text": [
      "Epoch [98], last_lr: 0.00954, train_loss: 1.7304, val_loss: 1.8155, val_acc: 0.6440\n",
      "Epoch [99], last_lr: 0.00950, train_loss: 1.7267, val_loss: 1.7811, val_acc: 0.6787\n",
      "Epoch [100], last_lr: 0.00947, train_loss: 1.7192, val_loss: 1.8076, val_acc: 0.6523\n",
      "Epoch [101], last_lr: 0.00942, train_loss: 1.7332, val_loss: 1.7994, val_acc: 0.6602\n",
      "Epoch [102], last_lr: 0.00938, train_loss: 1.7302, val_loss: 1.8067, val_acc: 0.6536\n",
      "Epoch [103], last_lr: 0.00934, train_loss: 1.7245, val_loss: 1.7853, val_acc: 0.6735\n",
      "Epoch [104], last_lr: 0.00929, train_loss: 1.7234, val_loss: 1.8039, val_acc: 0.6563\n",
      "Epoch [105], last_lr: 0.00925, train_loss: 1.7252, val_loss: 1.7872, val_acc: 0.6735\n",
      "Epoch [106], last_lr: 0.00920, train_loss: 1.7179, val_loss: 1.7695, val_acc: 0.6888\n",
      "Epoch [107], last_lr: 0.00915, train_loss: 1.7210, val_loss: 1.7598, val_acc: 0.6996\n",
      "Epoch [108], last_lr: 0.00910, train_loss: 1.7165, val_loss: 1.7904, val_acc: 0.6688\n",
      "Epoch [109], last_lr: 0.00905, train_loss: 1.7249, val_loss: 1.7643, val_acc: 0.6949\n",
      "Epoch [110], last_lr: 0.00899, train_loss: 1.7206, val_loss: 1.7853, val_acc: 0.6759\n",
      "Epoch [111], last_lr: 0.00894, train_loss: 1.7144, val_loss: 1.7749, val_acc: 0.6838\n",
      "Epoch [112], last_lr: 0.00888, train_loss: 1.7128, val_loss: 1.7552, val_acc: 0.7066\n",
      "Epoch [113], last_lr: 0.00882, train_loss: 1.7121, val_loss: 1.7644, val_acc: 0.6955\n",
      "Epoch [114], last_lr: 0.00877, train_loss: 1.7153, val_loss: 1.7604, val_acc: 0.7002\n",
      "Epoch [115], last_lr: 0.00871, train_loss: 1.7155, val_loss: 1.7661, val_acc: 0.6946\n",
      "Epoch [116], last_lr: 0.00864, train_loss: 1.7128, val_loss: 1.7709, val_acc: 0.6897\n",
      "Epoch [117], last_lr: 0.00858, train_loss: 1.7057, val_loss: 1.7720, val_acc: 0.6869\n",
      "Epoch [118], last_lr: 0.00852, train_loss: 1.7099, val_loss: 1.7435, val_acc: 0.7173\n",
      "Epoch [119], last_lr: 0.00846, train_loss: 1.7045, val_loss: 1.7595, val_acc: 0.7005\n",
      "Epoch [120], last_lr: 0.00839, train_loss: 1.7070, val_loss: 1.7685, val_acc: 0.6912\n",
      "Epoch [121], last_lr: 0.00832, train_loss: 1.7046, val_loss: 1.7620, val_acc: 0.6986\n",
      "Epoch [122], last_lr: 0.00826, train_loss: 1.7060, val_loss: 1.7730, val_acc: 0.6878\n",
      "Epoch [123], last_lr: 0.00819, train_loss: 1.7042, val_loss: 1.7451, val_acc: 0.7160\n",
      "Epoch [124], last_lr: 0.00812, train_loss: 1.7043, val_loss: 1.7655, val_acc: 0.6952\n",
      "Epoch [125], last_lr: 0.00805, train_loss: 1.7055, val_loss: 1.7840, val_acc: 0.6755\n",
      "Epoch [126], last_lr: 0.00798, train_loss: 1.7002, val_loss: 1.7740, val_acc: 0.6868\n",
      "Epoch [127], last_lr: 0.00790, train_loss: 1.6985, val_loss: 1.7608, val_acc: 0.6992\n",
      "Epoch [128], last_lr: 0.00783, train_loss: 1.7013, val_loss: 1.7611, val_acc: 0.6989\n",
      "Epoch [129], last_lr: 0.00775, train_loss: 1.6960, val_loss: 1.7537, val_acc: 0.7058\n",
      "Epoch [130], last_lr: 0.00768, train_loss: 1.7001, val_loss: 1.7493, val_acc: 0.7102\n",
      "Epoch [131], last_lr: 0.00760, train_loss: 1.6946, val_loss: 1.7500, val_acc: 0.7102\n",
      "Epoch [132], last_lr: 0.00753, train_loss: 1.6971, val_loss: 1.7477, val_acc: 0.7126\n",
      "Epoch [133], last_lr: 0.00745, train_loss: 1.6909, val_loss: 1.7644, val_acc: 0.6964\n",
      "Epoch [134], last_lr: 0.00737, train_loss: 1.6895, val_loss: 1.7370, val_acc: 0.7240\n",
      "Epoch [135], last_lr: 0.00729, train_loss: 1.6851, val_loss: 1.7656, val_acc: 0.6938\n",
      "Epoch [136], last_lr: 0.00721, train_loss: 1.6892, val_loss: 1.7627, val_acc: 0.6970\n",
      "Epoch [137], last_lr: 0.00713, train_loss: 1.6907, val_loss: 1.7906, val_acc: 0.6684\n",
      "Epoch [138], last_lr: 0.00705, train_loss: 1.6920, val_loss: 1.7482, val_acc: 0.7107\n",
      "Epoch [139], last_lr: 0.00697, train_loss: 1.6858, val_loss: 1.7475, val_acc: 0.7113\n",
      "Epoch [140], last_lr: 0.00688, train_loss: 1.6856, val_loss: 1.7329, val_acc: 0.7257\n",
      "Epoch [141], last_lr: 0.00680, train_loss: 1.6806, val_loss: 1.7491, val_acc: 0.7107\n",
      "Epoch [142], last_lr: 0.00671, train_loss: 1.6796, val_loss: 1.7819, val_acc: 0.6785\n",
      "Epoch [143], last_lr: 0.00663, train_loss: 1.6797, val_loss: 1.7562, val_acc: 0.7040\n",
      "Epoch [144], last_lr: 0.00655, train_loss: 1.6771, val_loss: 1.7644, val_acc: 0.6946\n",
      "Epoch [145], last_lr: 0.00646, train_loss: 1.6759, val_loss: 1.7684, val_acc: 0.6910\n",
      "Epoch [146], last_lr: 0.00637, train_loss: 1.6712, val_loss: 1.7223, val_acc: 0.7378\n",
      "Epoch [147], last_lr: 0.00629, train_loss: 1.6728, val_loss: 1.7694, val_acc: 0.6902\n",
      "Epoch [148], last_lr: 0.00620, train_loss: 1.6742, val_loss: 1.7430, val_acc: 0.7172\n",
      "Epoch [149], last_lr: 0.00611, train_loss: 1.6748, val_loss: 1.7337, val_acc: 0.7256\n",
      "Epoch [150], last_lr: 0.00602, train_loss: 1.6703, val_loss: 1.7340, val_acc: 0.7257\n",
      "Epoch [151], last_lr: 0.00594, train_loss: 1.6666, val_loss: 1.7449, val_acc: 0.7151\n",
      "Epoch [152], last_lr: 0.00585, train_loss: 1.6704, val_loss: 1.7277, val_acc: 0.7348\n",
      "Epoch [153], last_lr: 0.00576, train_loss: 1.6651, val_loss: 1.7250, val_acc: 0.7349\n",
      "Epoch [154], last_lr: 0.00567, train_loss: 1.6643, val_loss: 1.7394, val_acc: 0.7206\n",
      "Epoch [155], last_lr: 0.00558, train_loss: 1.6606, val_loss: 1.7466, val_acc: 0.7112\n",
      "Epoch [156], last_lr: 0.00549, train_loss: 1.6618, val_loss: 1.7224, val_acc: 0.7373\n",
      "Epoch [157], last_lr: 0.00540, train_loss: 1.6568, val_loss: 1.7425, val_acc: 0.7179\n",
      "Epoch [158], last_lr: 0.00531, train_loss: 1.6602, val_loss: 1.7224, val_acc: 0.7380\n",
      "Epoch [159], last_lr: 0.00522, train_loss: 1.6539, val_loss: 1.7162, val_acc: 0.7448\n",
      "Epoch [160], last_lr: 0.00513, train_loss: 1.6511, val_loss: 1.7328, val_acc: 0.7281\n",
      "Epoch [161], last_lr: 0.00504, train_loss: 1.6481, val_loss: 1.7219, val_acc: 0.7394\n",
      "Epoch [162], last_lr: 0.00496, train_loss: 1.6503, val_loss: 1.7197, val_acc: 0.7408\n",
      "Epoch [163], last_lr: 0.00487, train_loss: 1.6452, val_loss: 1.7280, val_acc: 0.7315\n",
      "Epoch [164], last_lr: 0.00478, train_loss: 1.6478, val_loss: 1.7342, val_acc: 0.7256\n",
      "Epoch [165], last_lr: 0.00469, train_loss: 1.6415, val_loss: 1.7221, val_acc: 0.7371\n",
      "Epoch [166], last_lr: 0.00460, train_loss: 1.6397, val_loss: 1.7211, val_acc: 0.7394\n",
      "Epoch [167], last_lr: 0.00451, train_loss: 1.6447, val_loss: 1.7251, val_acc: 0.7354\n",
      "Epoch [168], last_lr: 0.00442, train_loss: 1.6378, val_loss: 1.7259, val_acc: 0.7346\n",
      "Epoch [169], last_lr: 0.00433, train_loss: 1.6367, val_loss: 1.7175, val_acc: 0.7408\n",
      "Epoch [170], last_lr: 0.00424, train_loss: 1.6287, val_loss: 1.7135, val_acc: 0.7461\n",
      "Epoch [171], last_lr: 0.00415, train_loss: 1.6307, val_loss: 1.7268, val_acc: 0.7332\n",
      "Epoch [172], last_lr: 0.00406, train_loss: 1.6284, val_loss: 1.7072, val_acc: 0.7514\n",
      "Epoch [173], last_lr: 0.00398, train_loss: 1.6264, val_loss: 1.7111, val_acc: 0.7484\n",
      "Epoch [174], last_lr: 0.00389, train_loss: 1.6229, val_loss: 1.7187, val_acc: 0.7401\n",
      "Epoch [175], last_lr: 0.00380, train_loss: 1.6219, val_loss: 1.7116, val_acc: 0.7492\n",
      "Epoch [176], last_lr: 0.00371, train_loss: 1.6176, val_loss: 1.7243, val_acc: 0.7342\n",
      "Epoch [177], last_lr: 0.00363, train_loss: 1.6174, val_loss: 1.7236, val_acc: 0.7364\n",
      "Epoch [178], last_lr: 0.00354, train_loss: 1.6154, val_loss: 1.7090, val_acc: 0.7500\n",
      "Epoch [179], last_lr: 0.00345, train_loss: 1.6129, val_loss: 1.7055, val_acc: 0.7550\n",
      "Epoch [180], last_lr: 0.00337, train_loss: 1.6087, val_loss: 1.7029, val_acc: 0.7572\n",
      "Epoch [181], last_lr: 0.00329, train_loss: 1.6078, val_loss: 1.7150, val_acc: 0.7456\n",
      "Epoch [182], last_lr: 0.00320, train_loss: 1.6101, val_loss: 1.7065, val_acc: 0.7532\n",
      "Epoch [183], last_lr: 0.00312, train_loss: 1.6054, val_loss: 1.7166, val_acc: 0.7441\n",
      "Epoch [184], last_lr: 0.00303, train_loss: 1.6005, val_loss: 1.7043, val_acc: 0.7560\n",
      "Epoch [185], last_lr: 0.00295, train_loss: 1.5976, val_loss: 1.7153, val_acc: 0.7457\n",
      "Epoch [186], last_lr: 0.00287, train_loss: 1.5990, val_loss: 1.7013, val_acc: 0.7584\n",
      "Epoch [187], last_lr: 0.00279, train_loss: 1.5922, val_loss: 1.7065, val_acc: 0.7538\n",
      "Epoch [188], last_lr: 0.00271, train_loss: 1.5894, val_loss: 1.7018, val_acc: 0.7579\n",
      "Epoch [189], last_lr: 0.00263, train_loss: 1.5871, val_loss: 1.7011, val_acc: 0.7596\n",
      "Epoch [190], last_lr: 0.00255, train_loss: 1.5893, val_loss: 1.7029, val_acc: 0.7572\n",
      "Epoch [191], last_lr: 0.00247, train_loss: 1.5851, val_loss: 1.7032, val_acc: 0.7572\n",
      "Epoch [192], last_lr: 0.00240, train_loss: 1.5777, val_loss: 1.7032, val_acc: 0.7571\n",
      "Epoch [193], last_lr: 0.00232, train_loss: 1.5798, val_loss: 1.7051, val_acc: 0.7553\n",
      "Epoch [194], last_lr: 0.00225, train_loss: 1.5735, val_loss: 1.7013, val_acc: 0.7580\n"
     ]
    },
    {
     "name": "stdout",
     "output_type": "stream",
     "text": [
      "Epoch [195], last_lr: 0.00217, train_loss: 1.5716, val_loss: 1.6990, val_acc: 0.7603\n",
      "Epoch [196], last_lr: 0.00210, train_loss: 1.5696, val_loss: 1.6994, val_acc: 0.7611\n",
      "Epoch [197], last_lr: 0.00202, train_loss: 1.5665, val_loss: 1.6972, val_acc: 0.7626\n",
      "Epoch [198], last_lr: 0.00195, train_loss: 1.5649, val_loss: 1.6981, val_acc: 0.7631\n",
      "Epoch [199], last_lr: 0.00188, train_loss: 1.5615, val_loss: 1.7016, val_acc: 0.7597\n",
      "Epoch [200], last_lr: 0.00181, train_loss: 1.5609, val_loss: 1.6943, val_acc: 0.7665\n",
      "Epoch [201], last_lr: 0.00174, train_loss: 1.5574, val_loss: 1.6956, val_acc: 0.7646\n",
      "Epoch [202], last_lr: 0.00168, train_loss: 1.5542, val_loss: 1.6985, val_acc: 0.7633\n",
      "Epoch [203], last_lr: 0.00161, train_loss: 1.5529, val_loss: 1.6946, val_acc: 0.7654\n",
      "Epoch [204], last_lr: 0.00154, train_loss: 1.5505, val_loss: 1.7004, val_acc: 0.7587\n",
      "Epoch [205], last_lr: 0.00148, train_loss: 1.5492, val_loss: 1.6946, val_acc: 0.7664\n",
      "Epoch [206], last_lr: 0.00142, train_loss: 1.5456, val_loss: 1.6943, val_acc: 0.7666\n",
      "Epoch [207], last_lr: 0.00136, train_loss: 1.5423, val_loss: 1.6950, val_acc: 0.7647\n",
      "Epoch [208], last_lr: 0.00129, train_loss: 1.5416, val_loss: 1.6914, val_acc: 0.7694\n",
      "Epoch [209], last_lr: 0.00123, train_loss: 1.5392, val_loss: 1.6898, val_acc: 0.7701\n",
      "Epoch [210], last_lr: 0.00118, train_loss: 1.5383, val_loss: 1.6900, val_acc: 0.7700\n",
      "Epoch [211], last_lr: 0.00112, train_loss: 1.5361, val_loss: 1.6939, val_acc: 0.7660\n",
      "Epoch [212], last_lr: 0.00106, train_loss: 1.5347, val_loss: 1.6941, val_acc: 0.7676\n",
      "Epoch [213], last_lr: 0.00101, train_loss: 1.5335, val_loss: 1.6908, val_acc: 0.7695\n",
      "Epoch [214], last_lr: 0.00095, train_loss: 1.5314, val_loss: 1.6897, val_acc: 0.7710\n",
      "Epoch [215], last_lr: 0.00090, train_loss: 1.5298, val_loss: 1.6876, val_acc: 0.7729\n",
      "Epoch [216], last_lr: 0.00085, train_loss: 1.5286, val_loss: 1.6883, val_acc: 0.7713\n",
      "Epoch [217], last_lr: 0.00080, train_loss: 1.5266, val_loss: 1.6896, val_acc: 0.7699\n",
      "Epoch [218], last_lr: 0.00075, train_loss: 1.5263, val_loss: 1.6895, val_acc: 0.7703\n",
      "Epoch [219], last_lr: 0.00071, train_loss: 1.5261, val_loss: 1.6911, val_acc: 0.7684\n",
      "Epoch [220], last_lr: 0.00066, train_loss: 1.5253, val_loss: 1.6903, val_acc: 0.7706\n",
      "Epoch [221], last_lr: 0.00062, train_loss: 1.5234, val_loss: 1.6903, val_acc: 0.7697\n",
      "Epoch [222], last_lr: 0.00058, train_loss: 1.5225, val_loss: 1.6905, val_acc: 0.7715\n",
      "Epoch [223], last_lr: 0.00053, train_loss: 1.5219, val_loss: 1.6918, val_acc: 0.7688\n",
      "Epoch [224], last_lr: 0.00050, train_loss: 1.5213, val_loss: 1.6929, val_acc: 0.7685\n",
      "Epoch [225], last_lr: 0.00046, train_loss: 1.5205, val_loss: 1.6916, val_acc: 0.7676\n",
      "Epoch [226], last_lr: 0.00042, train_loss: 1.5198, val_loss: 1.6902, val_acc: 0.7705\n",
      "Epoch [227], last_lr: 0.00038, train_loss: 1.5194, val_loss: 1.6919, val_acc: 0.7689\n",
      "Epoch [228], last_lr: 0.00035, train_loss: 1.5191, val_loss: 1.6898, val_acc: 0.7712\n",
      "Epoch [229], last_lr: 0.00032, train_loss: 1.5188, val_loss: 1.6922, val_acc: 0.7689\n",
      "Epoch [230], last_lr: 0.00029, train_loss: 1.5182, val_loss: 1.6920, val_acc: 0.7688\n",
      "Epoch [231], last_lr: 0.00026, train_loss: 1.5183, val_loss: 1.6904, val_acc: 0.7699\n",
      "Epoch [232], last_lr: 0.00023, train_loss: 1.5176, val_loss: 1.6906, val_acc: 0.7694\n",
      "Epoch [233], last_lr: 0.00020, train_loss: 1.5175, val_loss: 1.6908, val_acc: 0.7700\n",
      "Epoch [234], last_lr: 0.00018, train_loss: 1.5172, val_loss: 1.6906, val_acc: 0.7697\n",
      "Epoch [235], last_lr: 0.00016, train_loss: 1.5170, val_loss: 1.6913, val_acc: 0.7687\n",
      "Epoch [236], last_lr: 0.00014, train_loss: 1.5169, val_loss: 1.6899, val_acc: 0.7705\n",
      "Epoch [237], last_lr: 0.00012, train_loss: 1.5169, val_loss: 1.6893, val_acc: 0.7718\n",
      "Epoch [238], last_lr: 0.00010, train_loss: 1.5167, val_loss: 1.6900, val_acc: 0.7710\n",
      "Epoch [239], last_lr: 0.00008, train_loss: 1.5167, val_loss: 1.6900, val_acc: 0.7703\n",
      "Epoch [240], last_lr: 0.00007, train_loss: 1.5166, val_loss: 1.6903, val_acc: 0.7694\n",
      "Epoch [241], last_lr: 0.00005, train_loss: 1.5165, val_loss: 1.6902, val_acc: 0.7700\n",
      "Epoch [242], last_lr: 0.00004, train_loss: 1.5166, val_loss: 1.6902, val_acc: 0.7703\n",
      "Epoch [243], last_lr: 0.00003, train_loss: 1.5164, val_loss: 1.6903, val_acc: 0.7702\n",
      "Epoch [244], last_lr: 0.00002, train_loss: 1.5164, val_loss: 1.6905, val_acc: 0.7707\n",
      "Epoch [245], last_lr: 0.00001, train_loss: 1.5164, val_loss: 1.6902, val_acc: 0.7706\n",
      "Epoch [246], last_lr: 0.00001, train_loss: 1.5164, val_loss: 1.6896, val_acc: 0.7715\n",
      "Epoch [247], last_lr: 0.00000, train_loss: 1.5164, val_loss: 1.6897, val_acc: 0.7707\n",
      "Epoch [248], last_lr: 0.00000, train_loss: 1.5163, val_loss: 1.6901, val_acc: 0.7711\n",
      "Epoch [249], last_lr: 0.00000, train_loss: 1.5164, val_loss: 1.6909, val_acc: 0.7692\n"
     ]
    }
   ],
   "source": [
    "history += fit_one_cycle(epochs, max_lr, model, train_dl, valid_dl, \n",
    "                             grad_clip=grad_clip, \n",
    "                             weight_decay=weight_decay, \n",
    "                             opt_func=opt_func)"
   ]
  },
  {
   "cell_type": "markdown",
   "id": "28ad88f9",
   "metadata": {},
   "source": [
    "## Plotting"
   ]
  },
  {
   "cell_type": "code",
   "execution_count": 41,
   "id": "c130a12a",
   "metadata": {},
   "outputs": [],
   "source": [
    "def plot_accuracies(history):\n",
    "    accuracies = [x['val_acc'] for x in history]\n",
    "    plt.plot(accuracies, '-x')\n",
    "    plt.xlabel('epoch')\n",
    "    plt.ylabel('accuracy')\n",
    "    plt.title('Accuracy vs. No. of epochs');"
   ]
  },
  {
   "cell_type": "code",
   "execution_count": 42,
   "id": "711c22b0",
   "metadata": {},
   "outputs": [
    {
     "data": {
      "image/png": "[encoded data removed]",
      "text/plain": [
       "<Figure size 432x288 with 1 Axes>"
      ]
     },
     "metadata": {},
     "output_type": "display_data"
    }
   ],
   "source": [
    "plot_accuracies(history)\n"
   ]
  },
  {
   "cell_type": "code",
   "execution_count": 43,
   "id": "82d51acb",
   "metadata": {},
   "outputs": [],
   "source": [
    "def plot_losses(history):\n",
    "    train_losses = [x.get('train_loss') for x in history]\n",
    "    val_losses = [x['val_loss'] for x in history]\n",
    "    plt.plot(train_losses, '-bx')\n",
    "    plt.plot(val_losses, '-rx')\n",
    "    plt.xlabel('epoch')\n",
    "    plt.ylabel('loss')\n",
    "    plt.legend(['Training', 'Validation'])\n",
    "    plt.title('Loss vs. No. of epochs');"
   ]
  },
  {
   "cell_type": "code",
   "execution_count": 44,
   "id": "fe525e95",
   "metadata": {},
   "outputs": [
    {
     "data": {
      "image/png": "[encoded data removed]",
      "text/plain": [
       "<Figure size 432x288 with 1 Axes>"
      ]
     },
     "metadata": {},
     "output_type": "display_data"
    }
   ],
   "source": [
    "plot_losses(history)"
   ]
  },
  {
   "cell_type": "code",
   "execution_count": 45,
   "id": "2ddf5dfa",
   "metadata": {},
   "outputs": [],
   "source": [
    "def plot_lrs(history):\n",
    "    lrs = np.concatenate([x.get('lrs', []) for x in history])\n",
    "    plt.plot(lrs)\n",
    "    plt.xlabel('Batch no.')\n",
    "    plt.ylabel('Learning rate')\n",
    "    plt.title('Learning Rate vs. Batch no.');"
   ]
  },
  {
   "cell_type": "code",
   "execution_count": 46,
   "id": "8d71dbc1",
   "metadata": {},
   "outputs": [
    {
     "data": {
      "image/png": "[encoded data removed]",
      "text/plain": [
       "<Figure size 432x288 with 1 Axes>"
      ]
     },
     "metadata": {},
     "output_type": "display_data"
    }
   ],
   "source": [
    "plot_lrs(history)"
   ]
  },
  {
   "cell_type": "code",
   "execution_count": 47,
   "id": "8e489292",
   "metadata": {},
   "outputs": [],
   "source": [
    "\n",
    "def predict_image(img, model):\n",
    "    # Convert to a batch of 1\n",
    "    xb = to_device(img.unsqueeze(0), device)\n",
    "    # Get predictions from model\n",
    "    yb = model(xb)\n",
    "    # Pick index with highest probability\n",
    "    _, preds  = torch.max(yb, dim=1)\n",
    "    # Retrieve the class label\n",
    "    return train_ds.classes[preds[0].item()]"
   ]
  },
  {
   "cell_type": "markdown",
   "id": "2c9800eb",
   "metadata": {},
   "source": [
    "## Testing the model"
   ]
  },
  {
   "cell_type": "code",
   "execution_count": 48,
   "id": "96646e75",
   "metadata": {},
   "outputs": [
    {
     "name": "stdout",
     "output_type": "stream",
     "text": [
      "Label: airplane , Predicted: airplane\n"
     ]
    },
    {
     "data": {
      "image/png": "[encoded data removed]",
      "text/plain": [
       "<Figure size 432x288 with 1 Axes>"
      ]
     },
     "metadata": {},
     "output_type": "display_data"
    }
   ],
   "source": [
    "img, label = valid_ds[0]\n",
    "plt.imshow(img.permute(1, 2, 0).clamp(0, 1))\n",
    "print('Label:', train_ds.classes[label], ', Predicted:', predict_image(img, model))"
   ]
  },
  {
   "cell_type": "code",
   "execution_count": 49,
   "id": "dce9d9c3",
   "metadata": {},
   "outputs": [
    {
     "name": "stderr",
     "output_type": "stream",
     "text": [
      "Clipping input data to the valid range for imshow with RGB data ([0..1] for floats or [0..255] for integers).\n"
     ]
    },
    {
     "name": "stdout",
     "output_type": "stream",
     "text": [
      "Label: automobile , Predicted: truck\n"
     ]
    },
    {
     "data": {
      "image/png": "[encoded data removed]",
      "text/plain": [
       "<Figure size 432x288 with 1 Axes>"
      ]
     },
     "metadata": {},
     "output_type": "display_data"
    }
   ],
   "source": [
    "img, label = valid_ds[1002]\n",
    "plt.imshow(img.permute(1, 2, 0))\n",
    "print('Label:', valid_ds.classes[label], ', Predicted:', predict_image(img, model))"
   ]
  },
  {
   "cell_type": "code",
   "execution_count": 50,
   "id": "43dafb95",
   "metadata": {},
   "outputs": [
    {
     "name": "stderr",
     "output_type": "stream",
     "text": [
      "Clipping input data to the valid range for imshow with RGB data ([0..1] for floats or [0..255] for integers).\n"
     ]
    },
    {
     "name": "stdout",
     "output_type": "stream",
     "text": [
      "Label: frog , Predicted: frog\n"
     ]
    },
    {
     "data": {
      "image/png": "[encoded data removed]",
      "text/plain": [
       "<Figure size 432x288 with 1 Axes>"
      ]
     },
     "metadata": {},
     "output_type": "display_data"
    }
   ],
   "source": [
    "img, label = valid_ds[6153]\n",
    "plt.imshow(img.permute(1, 2, 0))\n",
    "print('Label:', train_ds.classes[label], ', Predicted:', predict_image(img, model))"
   ]
  }
 ],
 "metadata": {
  "kernelspec": {
   "display_name": "Python 3 (ipykernel)",
   "language": "python",
   "name": "python3"
  },
  "language_info": {
   "codemirror_mode": {
    "name": "ipython",
    "version": 3
   },
   "file_extension": ".py",
   "mimetype": "text/x-python",
   "name": "python",
   "nbconvert_exporter": "python",
   "pygments_lexer": "ipython3",
   "version": "3.9.12"
  }
 },
 "nbformat": 4,
 "nbformat_minor": 5
}
