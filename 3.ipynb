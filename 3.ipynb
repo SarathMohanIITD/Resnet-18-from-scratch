{
 "cells": [
  {
   "cell_type": "code",
   "execution_count": 18,
   "id": "da068c58",
   "metadata": {},
   "outputs": [],
   "source": [
    "import os\n",
    "import torch\n",
    "import torchvision\n",
    "import tarfile\n",
    "import torch.nn as nn\n",
    "import numpy as np\n",
    "import torch.nn.functional as F\n",
    "from torchvision.datasets.utils import download_url\n",
    "from torchvision.datasets import ImageFolder\n",
    "from torch.utils.data import DataLoader\n",
    "import torchvision.transforms as tt\n",
    "from torch.utils.data import random_split\n",
    "from torchvision.utils import make_grid\n",
    "import matplotlib\n",
    "import matplotlib.pyplot as plt\n",
    "from PIL import Image\n",
    "%matplotlib inline\n",
    "\n",
    "matplotlib.rcParams['figure.facecolor'] = '#ffffff'"
   ]
  },
  {
   "cell_type": "code",
   "execution_count": 19,
   "id": "9c80ded1",
   "metadata": {},
   "outputs": [],
   "source": [
    "import torch\n",
    "torch.cuda.empty_cache()"
   ]
  },
  {
   "cell_type": "markdown",
   "id": "6a9df76d",
   "metadata": {},
   "source": [
    "## Downloading dataset"
   ]
  },
  {
   "cell_type": "code",
   "execution_count": 20,
   "id": "befc5550",
   "metadata": {},
   "outputs": [
    {
     "name": "stdout",
     "output_type": "stream",
     "text": [
      "Using downloaded and verified file: ./cifar10.tgz\n"
     ]
    }
   ],
   "source": [
    "from torchvision.datasets.utils import download_url\n",
    "\n",
    "\n",
    "# Dowload the dataset\n",
    "dataset_url = \"https://s3.amazonaws.com/fast-ai-imageclas/cifar10.tgz\"\n",
    "download_url(dataset_url, '.')\n"
   ]
  },
  {
   "cell_type": "markdown",
   "id": "4ef48b40",
   "metadata": {},
   "source": [
    "## Printing classes of Dataset"
   ]
  },
  {
   "cell_type": "code",
   "execution_count": 21,
   "id": "c782ac99",
   "metadata": {},
   "outputs": [
    {
     "name": "stdout",
     "output_type": "stream",
     "text": [
      "['tinyTrain', 'train', 'test']\n",
      "['deer', 'truck', 'ship', 'horse', 'bird', 'airplane', 'frog', 'automobile', 'dog', 'cat']\n"
     ]
    }
   ],
   "source": [
    "# Look into the data directory\n",
    "data_dir = './data/cifar10'\n",
    "print(os.listdir(data_dir))\n",
    "classes = os.listdir(data_dir + \"/tinyTrain\")\n",
    "print(classes)\n"
   ]
  },
  {
   "cell_type": "markdown",
   "id": "c4cc5e6d",
   "metadata": {},
   "source": [
    "## Applying Data Augmentation"
   ]
  },
  {
   "cell_type": "code",
   "execution_count": 22,
   "id": "1d94bed6",
   "metadata": {},
   "outputs": [],
   "source": [
    "stats = ((0.4914, 0.4822, 0.4465), (0.2023, 0.1994, 0.2010))\n",
    "train_tfms = tt.Compose([tt.RandomCrop(32, padding=4, padding_mode='reflect'), \n",
    "                         tt.RandomHorizontalFlip(), \n",
    "                          \n",
    "                         # tt.RandomResizedCrop(256, scale=(0.5,0.9), ratio=(1, 1)), \n",
    "                          #tt.ColorJitter(brightness=0.1, contrast=0.1, saturation=0.1, hue=0.1),\n",
    "                         tt.ToTensor(), \n",
    "                         tt.Normalize(*stats,inplace=True)])\n",
    "valid_tfms = tt.Compose([tt.ToTensor(), tt.Normalize(*stats)])"
   ]
  },
  {
   "cell_type": "code",
   "execution_count": 23,
   "id": "6ebcc7c8",
   "metadata": {},
   "outputs": [],
   "source": [
    "train_ds=ImageFolder(data_dir+'/tinyTrain',train_tfms)\n",
    "valid_ds=ImageFolder(data_dir+'/test',valid_tfms)\n"
   ]
  },
  {
   "cell_type": "code",
   "execution_count": 24,
   "id": "ed1b1a50",
   "metadata": {},
   "outputs": [],
   "source": [
    "batch_size=100"
   ]
  },
  {
   "cell_type": "code",
   "execution_count": 25,
   "id": "1a800236",
   "metadata": {},
   "outputs": [],
   "source": [
    "train_loader=DataLoader(train_ds,batch_size,shuffle=True,num_workers=3,pin_memory=True)\n",
    "val_loader=DataLoader(valid_ds,batch_size*2,num_workers=3,pin_memory=2)"
   ]
  },
  {
   "cell_type": "markdown",
   "id": "b6f885c2",
   "metadata": {},
   "source": [
    "## Selecting GPU"
   ]
  },
  {
   "cell_type": "code",
   "execution_count": 26,
   "id": "ee90625c",
   "metadata": {},
   "outputs": [],
   "source": [
    "def get_default_device():\n",
    "    \"\"\"Pick GPU if available, else CPU\"\"\"\n",
    "    if torch.cuda.is_available():\n",
    "        return torch.device('cuda')\n",
    "    else:\n",
    "    \n",
    "        return torch.device('cpu')\n",
    "def to_device(data, device):\n",
    "    \"\"\"Move tensor(s) to chosen device\"\"\"\n",
    "    if isinstance(data, (list,tuple)):\n",
    "        return [to_device(x, device) for x in data]\n",
    "    return data.to(device, non_blocking=True)\n",
    "class DeviceDataLoader():\n",
    "    \"\"\"Wrap a dataloader to move data to a device\"\"\"\n",
    "    def __init__(self, dl,device):\n",
    "        self.dl = dl\n",
    "        self.device = device\n",
    "    def __iter__(self):\n",
    "        \"\"\"Yield a batch of data after moving it to device\"\"\"\n",
    "        for b in self.dl: \n",
    "            yield to_device(b, self.device) \n",
    "        \n",
    "    \n",
    "\n",
    "    def __len__(self):\n",
    "        \"\"\"Number of batches\"\"\"\n",
    "        return len(self.dl)"
   ]
  },
  {
   "cell_type": "code",
   "execution_count": 27,
   "id": "c932f6cc",
   "metadata": {},
   "outputs": [
    {
     "data": {
      "text/plain": [
       "device(type='cuda')"
      ]
     },
     "execution_count": 27,
     "metadata": {},
     "output_type": "execute_result"
    }
   ],
   "source": [
    "device = get_default_device()\n",
    "device"
   ]
  },
  {
   "cell_type": "code",
   "execution_count": 28,
   "id": "bcaeffd8",
   "metadata": {},
   "outputs": [],
   "source": [
    "train_dl=DeviceDataLoader(train_loader,device)\n",
    "valid_dl=DeviceDataLoader(val_loader,device)"
   ]
  },
  {
   "cell_type": "code",
   "execution_count": 29,
   "id": "fdc778b5",
   "metadata": {},
   "outputs": [],
   "source": [
    "def accuracy(outputs, labels):\n",
    "    _, preds = torch.max(outputs, dim=1)\n",
    "    return torch.tensor(torch.sum(preds == labels).item() / len(preds))\n",
    "\n",
    "class ImageClassificationBase(nn.Module):\n",
    "    def training_step(self, batch):\n",
    "        images, labels = batch \n",
    "        out = self(images)                  # Generate predictions\n",
    "        loss = F.cross_entropy(out, labels) # Calculate loss\n",
    "        return loss\n",
    "    \n",
    "    def validation_step(self, batch):\n",
    "        images, labels = batch \n",
    "        out = self(images)                    # Generate predictions\n",
    "        loss = F.cross_entropy(out, labels)   # Calculate loss\n",
    "        acc = accuracy(out, labels)           # Calculate accuracy\n",
    "        return {'val_loss': loss.detach(), 'val_acc': acc}\n",
    "        \n",
    "    def validation_epoch_end(self, outputs):\n",
    "        batch_losses = [x['val_loss'] for x in outputs]\n",
    "        epoch_loss = torch.stack(batch_losses).mean()   # Combine losses\n",
    "        batch_accs = [x['val_acc'] for x in outputs]\n",
    "        epoch_acc = torch.stack(batch_accs).mean()      # Combine accuracies\n",
    "        return {'val_loss': epoch_loss.item(), 'val_acc': epoch_acc.item()}\n",
    "    \n",
    "    def epoch_end(self, epoch, result):\n",
    "        print(\"Epoch [{}], last_lr: {:.5f}, train_loss: {:.4f}, val_loss: {:.4f}, val_acc: {:.4f}\".format(\n",
    "            epoch, result['lrs'][-1], result['train_loss'], result['val_loss'], result['val_acc']))"
   ]
  },
  {
   "cell_type": "markdown",
   "id": "622d3fe7",
   "metadata": {},
   "source": [
    "## Model"
   ]
  },
  {
   "cell_type": "code",
   "execution_count": 30,
   "id": "fa127331",
   "metadata": {
    "scrolled": true
   },
   "outputs": [
    {
     "data": {
      "text/plain": [
       "ResNet(\n",
       "  (conv1): Conv2d(3, 64, kernel_size=(7, 7), stride=(2, 2), padding=(3, 3), bias=False)\n",
       "  (bn1): BatchNorm2d(64, eps=1e-05, momentum=0.1, affine=True, track_running_stats=True)\n",
       "  (relu): ReLU()\n",
       "  (maxpool): MaxPool2d(kernel_size=3, stride=2, padding=1, dilation=1, ceil_mode=False)\n",
       "  (layer1): Sequential(\n",
       "    (0): block(\n",
       "      (conv1): Conv2d(64, 64, kernel_size=(3, 3), stride=(1, 1), padding=(1, 1), bias=False)\n",
       "      (bn1): BatchNorm2d(64, eps=1e-05, momentum=0.1, affine=True, track_running_stats=True)\n",
       "      (conv2): Conv2d(64, 64, kernel_size=(3, 3), stride=(1, 1), padding=(1, 1), bias=False)\n",
       "      (bn2): BatchNorm2d(64, eps=1e-05, momentum=0.1, affine=True, track_running_stats=True)\n",
       "      (relu): ReLU()\n",
       "      (identity_downsample): Sequential(\n",
       "        (0): Conv2d(64, 64, kernel_size=(1, 1), stride=(1, 1), bias=False)\n",
       "        (1): BatchNorm2d(64, eps=1e-05, momentum=0.1, affine=True, track_running_stats=True)\n",
       "      )\n",
       "    )\n",
       "    (1): block(\n",
       "      (conv1): Conv2d(64, 64, kernel_size=(3, 3), stride=(1, 1), padding=(1, 1), bias=False)\n",
       "      (bn1): BatchNorm2d(64, eps=1e-05, momentum=0.1, affine=True, track_running_stats=True)\n",
       "      (conv2): Conv2d(64, 64, kernel_size=(3, 3), stride=(1, 1), padding=(1, 1), bias=False)\n",
       "      (bn2): BatchNorm2d(64, eps=1e-05, momentum=0.1, affine=True, track_running_stats=True)\n",
       "      (relu): ReLU()\n",
       "    )\n",
       "  )\n",
       "  (layer2): Sequential(\n",
       "    (0): block(\n",
       "      (conv1): Conv2d(64, 128, kernel_size=(3, 3), stride=(2, 2), padding=(1, 1), bias=False)\n",
       "      (bn1): BatchNorm2d(128, eps=1e-05, momentum=0.1, affine=True, track_running_stats=True)\n",
       "      (conv2): Conv2d(128, 128, kernel_size=(3, 3), stride=(1, 1), padding=(1, 1), bias=False)\n",
       "      (bn2): BatchNorm2d(128, eps=1e-05, momentum=0.1, affine=True, track_running_stats=True)\n",
       "      (relu): ReLU()\n",
       "      (identity_downsample): Sequential(\n",
       "        (0): Conv2d(64, 128, kernel_size=(1, 1), stride=(2, 2), bias=False)\n",
       "        (1): BatchNorm2d(128, eps=1e-05, momentum=0.1, affine=True, track_running_stats=True)\n",
       "      )\n",
       "    )\n",
       "    (1): block(\n",
       "      (conv1): Conv2d(128, 128, kernel_size=(3, 3), stride=(1, 1), padding=(1, 1), bias=False)\n",
       "      (bn1): BatchNorm2d(128, eps=1e-05, momentum=0.1, affine=True, track_running_stats=True)\n",
       "      (conv2): Conv2d(128, 128, kernel_size=(3, 3), stride=(1, 1), padding=(1, 1), bias=False)\n",
       "      (bn2): BatchNorm2d(128, eps=1e-05, momentum=0.1, affine=True, track_running_stats=True)\n",
       "      (relu): ReLU()\n",
       "    )\n",
       "  )\n",
       "  (layer3): Sequential(\n",
       "    (0): block(\n",
       "      (conv1): Conv2d(128, 256, kernel_size=(3, 3), stride=(2, 2), padding=(1, 1), bias=False)\n",
       "      (bn1): BatchNorm2d(256, eps=1e-05, momentum=0.1, affine=True, track_running_stats=True)\n",
       "      (conv2): Conv2d(256, 256, kernel_size=(3, 3), stride=(1, 1), padding=(1, 1), bias=False)\n",
       "      (bn2): BatchNorm2d(256, eps=1e-05, momentum=0.1, affine=True, track_running_stats=True)\n",
       "      (relu): ReLU()\n",
       "      (identity_downsample): Sequential(\n",
       "        (0): Conv2d(128, 256, kernel_size=(1, 1), stride=(2, 2), bias=False)\n",
       "        (1): BatchNorm2d(256, eps=1e-05, momentum=0.1, affine=True, track_running_stats=True)\n",
       "      )\n",
       "    )\n",
       "    (1): block(\n",
       "      (conv1): Conv2d(256, 256, kernel_size=(3, 3), stride=(1, 1), padding=(1, 1), bias=False)\n",
       "      (bn1): BatchNorm2d(256, eps=1e-05, momentum=0.1, affine=True, track_running_stats=True)\n",
       "      (conv2): Conv2d(256, 256, kernel_size=(3, 3), stride=(1, 1), padding=(1, 1), bias=False)\n",
       "      (bn2): BatchNorm2d(256, eps=1e-05, momentum=0.1, affine=True, track_running_stats=True)\n",
       "      (relu): ReLU()\n",
       "    )\n",
       "  )\n",
       "  (layer4): Sequential(\n",
       "    (0): block(\n",
       "      (conv1): Conv2d(256, 512, kernel_size=(3, 3), stride=(2, 2), padding=(1, 1), bias=False)\n",
       "      (bn1): BatchNorm2d(512, eps=1e-05, momentum=0.1, affine=True, track_running_stats=True)\n",
       "      (conv2): Conv2d(512, 512, kernel_size=(3, 3), stride=(1, 1), padding=(1, 1), bias=False)\n",
       "      (bn2): BatchNorm2d(512, eps=1e-05, momentum=0.1, affine=True, track_running_stats=True)\n",
       "      (relu): ReLU()\n",
       "      (identity_downsample): Sequential(\n",
       "        (0): Conv2d(256, 512, kernel_size=(1, 1), stride=(2, 2), bias=False)\n",
       "        (1): BatchNorm2d(512, eps=1e-05, momentum=0.1, affine=True, track_running_stats=True)\n",
       "      )\n",
       "    )\n",
       "    (1): block(\n",
       "      (conv1): Conv2d(512, 512, kernel_size=(3, 3), stride=(1, 1), padding=(1, 1), bias=False)\n",
       "      (bn1): BatchNorm2d(512, eps=1e-05, momentum=0.1, affine=True, track_running_stats=True)\n",
       "      (conv2): Conv2d(512, 512, kernel_size=(3, 3), stride=(1, 1), padding=(1, 1), bias=False)\n",
       "      (bn2): BatchNorm2d(512, eps=1e-05, momentum=0.1, affine=True, track_running_stats=True)\n",
       "      (relu): ReLU()\n",
       "    )\n",
       "  )\n",
       "  (avgpool): AdaptiveAvgPool2d(output_size=(1, 1))\n",
       "  (fc): Linear(in_features=512, out_features=10, bias=True)\n",
       "  (dropout1): Dropout(p=0, inplace=False)\n",
       "  (dropout2): Dropout(p=0, inplace=False)\n",
       ")"
      ]
     },
     "execution_count": 30,
     "metadata": {},
     "output_type": "execute_result"
    }
   ],
   "source": [
    "class block(nn.Module):\n",
    "    def __init__(self,in_channels=64,intermediate_channels=64,identity_downsample=None,stride=1):\n",
    "        super(block,self).__init__()\n",
    "        self.conv1=nn.Conv2d(in_channels,intermediate_channels,kernel_size=3,stride=stride,\n",
    "                             padding=1,bias=False)\n",
    "        self.bn1=nn.BatchNorm2d(intermediate_channels)\n",
    "        self.conv2=nn.Conv2d(intermediate_channels,intermediate_channels,kernel_size=3,\n",
    "                             stride=1,\n",
    "                             padding=1,\n",
    "                             bias=False\n",
    "                            )\n",
    "        self.bn2=nn.BatchNorm2d(intermediate_channels)\n",
    "        self.relu=nn.ReLU()\n",
    "        self.identity_downsample=identity_downsample\n",
    "        self.stride=stride\n",
    "        \n",
    "    def forward(self,x):\n",
    "        identity=x.clone()\n",
    "        \n",
    "        x=self.conv1(x)\n",
    "        x=self.bn1(x)\n",
    "        x=self.relu(x)\n",
    "        \n",
    "        x=self.conv2(x)\n",
    "        x=self.bn2(x)\n",
    "        \n",
    "        \n",
    "        if self.identity_downsample is not None:\n",
    "            identity=self.identity_downsample(identity)\n",
    "        \n",
    "       \n",
    "        x+=identity\n",
    "        \n",
    "        x=self.relu(x)\n",
    "        return x\n",
    "    \n",
    "    \n",
    "    \n",
    "class ResNet(ImageClassificationBase):\n",
    "    def __init__(self,block,layers,image_channels,num_classes,drop1,drop2):\n",
    "        super(ResNet,self).__init__()\n",
    "        self.in_channels=64\n",
    "        self.conv1=nn.Conv2d(image_channels,64,kernel_size=7,stride=2,padding=3,bias=False)\n",
    "        self.bn1=nn.BatchNorm2d(64)\n",
    "        self.relu=nn.ReLU()\n",
    "        self.maxpool=nn.MaxPool2d(kernel_size=3,stride=2,padding=1)\n",
    "        \n",
    "        self.layer1=self._make_layer( block,layers[0],intermediate_channels=64,stride=1)\n",
    "        self.layer2=self._make_layer(block,layers[1],intermediate_channels=128,stride=2)\n",
    "        self.layer3=self._make_layer(block,layers[2],intermediate_channels=256,stride=2)\n",
    "        self.layer4=self._make_layer(block,layers[3],intermediate_channels=512,stride=2)\n",
    "        \n",
    "        self.avgpool=nn.AdaptiveAvgPool2d((1,1))\n",
    "        self.fc=nn.Linear(512 , num_classes )\n",
    "        self.dropout1=nn.Dropout(drop1)\n",
    "        self.dropout2=nn.Dropout(drop2)\n",
    "    def forward(self,x):\n",
    "        x=self.conv1(x)\n",
    "        x=self.bn1(x)\n",
    "        x=self.relu(x)\n",
    "        x=self.dropout1(x)\n",
    "        x=self.maxpool(x)\n",
    "        x=self.layer1(x)\n",
    "        x=self.layer2(x)\n",
    "        x=self.layer3(x)\n",
    "        x=self.layer4(x)\n",
    "        \n",
    "        x=self.avgpool(x)\n",
    "        x=x.reshape(x.shape[0],-1)\n",
    "        x=self.dropout2(x)\n",
    "        x=self.fc(x)\n",
    "        \n",
    "        \n",
    "        x=F.softmax(x,dim=1)\n",
    "        \n",
    "        return x\n",
    "    \n",
    "    def _make_layer(self,block, num_residual_blocks,intermediate_channels,stride):\n",
    "        identity_downsample=None\n",
    "        layers=[]\n",
    "        \n",
    "        #if stride!=1 or self.in_channels!=intermediate_channels:\n",
    "        identity_downsample=nn.Sequential(\n",
    "            nn.Conv2d(\n",
    "                self.in_channels,\n",
    "                intermediate_channels,\n",
    "                kernel_size=1,\n",
    "                stride=stride,\n",
    "                bias=False\n",
    "            ),\n",
    "            nn.BatchNorm2d(intermediate_channels),\n",
    "            \n",
    "        )\n",
    "        \n",
    "        layers.append(\n",
    "            block(self.in_channels,intermediate_channels,identity_downsample,stride)\n",
    "        )\n",
    "        \n",
    "        self.in_channels=intermediate_channels\n",
    "        \n",
    "        for i in range(num_residual_blocks-1):\n",
    "            layers.append(block(self.in_channels,intermediate_channels))\n",
    "            \n",
    "        \n",
    "        return nn.Sequential(*layers)\n",
    "    \n",
    "\n",
    "    \n",
    "def ResNet18(img_channel=3,num_classes=10,i=0,j=0):\n",
    "    return ResNet(block,[2,2,2,2],img_channel,num_classes,i,j)\n",
    "\n",
    "\n",
    "model=ResNet18(img_channel=3,num_classes=10,i=0,j=0)\n",
    "\n",
    "    \n",
    "model\n"
   ]
  },
  {
   "cell_type": "code",
   "execution_count": 31,
   "id": "423e1228",
   "metadata": {
    "scrolled": true
   },
   "outputs": [
    {
     "data": {
      "text/plain": [
       "ResNet(\n",
       "  (conv1): Conv2d(3, 64, kernel_size=(7, 7), stride=(2, 2), padding=(3, 3), bias=False)\n",
       "  (bn1): BatchNorm2d(64, eps=1e-05, momentum=0.1, affine=True, track_running_stats=True)\n",
       "  (relu): ReLU()\n",
       "  (maxpool): MaxPool2d(kernel_size=3, stride=2, padding=1, dilation=1, ceil_mode=False)\n",
       "  (layer1): Sequential(\n",
       "    (0): block(\n",
       "      (conv1): Conv2d(64, 64, kernel_size=(3, 3), stride=(1, 1), padding=(1, 1), bias=False)\n",
       "      (bn1): BatchNorm2d(64, eps=1e-05, momentum=0.1, affine=True, track_running_stats=True)\n",
       "      (conv2): Conv2d(64, 64, kernel_size=(3, 3), stride=(1, 1), padding=(1, 1), bias=False)\n",
       "      (bn2): BatchNorm2d(64, eps=1e-05, momentum=0.1, affine=True, track_running_stats=True)\n",
       "      (relu): ReLU()\n",
       "      (identity_downsample): Sequential(\n",
       "        (0): Conv2d(64, 64, kernel_size=(1, 1), stride=(1, 1), bias=False)\n",
       "        (1): BatchNorm2d(64, eps=1e-05, momentum=0.1, affine=True, track_running_stats=True)\n",
       "      )\n",
       "    )\n",
       "    (1): block(\n",
       "      (conv1): Conv2d(64, 64, kernel_size=(3, 3), stride=(1, 1), padding=(1, 1), bias=False)\n",
       "      (bn1): BatchNorm2d(64, eps=1e-05, momentum=0.1, affine=True, track_running_stats=True)\n",
       "      (conv2): Conv2d(64, 64, kernel_size=(3, 3), stride=(1, 1), padding=(1, 1), bias=False)\n",
       "      (bn2): BatchNorm2d(64, eps=1e-05, momentum=0.1, affine=True, track_running_stats=True)\n",
       "      (relu): ReLU()\n",
       "    )\n",
       "  )\n",
       "  (layer2): Sequential(\n",
       "    (0): block(\n",
       "      (conv1): Conv2d(64, 128, kernel_size=(3, 3), stride=(2, 2), padding=(1, 1), bias=False)\n",
       "      (bn1): BatchNorm2d(128, eps=1e-05, momentum=0.1, affine=True, track_running_stats=True)\n",
       "      (conv2): Conv2d(128, 128, kernel_size=(3, 3), stride=(1, 1), padding=(1, 1), bias=False)\n",
       "      (bn2): BatchNorm2d(128, eps=1e-05, momentum=0.1, affine=True, track_running_stats=True)\n",
       "      (relu): ReLU()\n",
       "      (identity_downsample): Sequential(\n",
       "        (0): Conv2d(64, 128, kernel_size=(1, 1), stride=(2, 2), bias=False)\n",
       "        (1): BatchNorm2d(128, eps=1e-05, momentum=0.1, affine=True, track_running_stats=True)\n",
       "      )\n",
       "    )\n",
       "    (1): block(\n",
       "      (conv1): Conv2d(128, 128, kernel_size=(3, 3), stride=(1, 1), padding=(1, 1), bias=False)\n",
       "      (bn1): BatchNorm2d(128, eps=1e-05, momentum=0.1, affine=True, track_running_stats=True)\n",
       "      (conv2): Conv2d(128, 128, kernel_size=(3, 3), stride=(1, 1), padding=(1, 1), bias=False)\n",
       "      (bn2): BatchNorm2d(128, eps=1e-05, momentum=0.1, affine=True, track_running_stats=True)\n",
       "      (relu): ReLU()\n",
       "    )\n",
       "  )\n",
       "  (layer3): Sequential(\n",
       "    (0): block(\n",
       "      (conv1): Conv2d(128, 256, kernel_size=(3, 3), stride=(2, 2), padding=(1, 1), bias=False)\n",
       "      (bn1): BatchNorm2d(256, eps=1e-05, momentum=0.1, affine=True, track_running_stats=True)\n",
       "      (conv2): Conv2d(256, 256, kernel_size=(3, 3), stride=(1, 1), padding=(1, 1), bias=False)\n",
       "      (bn2): BatchNorm2d(256, eps=1e-05, momentum=0.1, affine=True, track_running_stats=True)\n",
       "      (relu): ReLU()\n",
       "      (identity_downsample): Sequential(\n",
       "        (0): Conv2d(128, 256, kernel_size=(1, 1), stride=(2, 2), bias=False)\n",
       "        (1): BatchNorm2d(256, eps=1e-05, momentum=0.1, affine=True, track_running_stats=True)\n",
       "      )\n",
       "    )\n",
       "    (1): block(\n",
       "      (conv1): Conv2d(256, 256, kernel_size=(3, 3), stride=(1, 1), padding=(1, 1), bias=False)\n",
       "      (bn1): BatchNorm2d(256, eps=1e-05, momentum=0.1, affine=True, track_running_stats=True)\n",
       "      (conv2): Conv2d(256, 256, kernel_size=(3, 3), stride=(1, 1), padding=(1, 1), bias=False)\n",
       "      (bn2): BatchNorm2d(256, eps=1e-05, momentum=0.1, affine=True, track_running_stats=True)\n",
       "      (relu): ReLU()\n",
       "    )\n",
       "  )\n",
       "  (layer4): Sequential(\n",
       "    (0): block(\n",
       "      (conv1): Conv2d(256, 512, kernel_size=(3, 3), stride=(2, 2), padding=(1, 1), bias=False)\n",
       "      (bn1): BatchNorm2d(512, eps=1e-05, momentum=0.1, affine=True, track_running_stats=True)\n",
       "      (conv2): Conv2d(512, 512, kernel_size=(3, 3), stride=(1, 1), padding=(1, 1), bias=False)\n",
       "      (bn2): BatchNorm2d(512, eps=1e-05, momentum=0.1, affine=True, track_running_stats=True)\n",
       "      (relu): ReLU()\n",
       "      (identity_downsample): Sequential(\n",
       "        (0): Conv2d(256, 512, kernel_size=(1, 1), stride=(2, 2), bias=False)\n",
       "        (1): BatchNorm2d(512, eps=1e-05, momentum=0.1, affine=True, track_running_stats=True)\n",
       "      )\n",
       "    )\n",
       "    (1): block(\n",
       "      (conv1): Conv2d(512, 512, kernel_size=(3, 3), stride=(1, 1), padding=(1, 1), bias=False)\n",
       "      (bn1): BatchNorm2d(512, eps=1e-05, momentum=0.1, affine=True, track_running_stats=True)\n",
       "      (conv2): Conv2d(512, 512, kernel_size=(3, 3), stride=(1, 1), padding=(1, 1), bias=False)\n",
       "      (bn2): BatchNorm2d(512, eps=1e-05, momentum=0.1, affine=True, track_running_stats=True)\n",
       "      (relu): ReLU()\n",
       "    )\n",
       "  )\n",
       "  (avgpool): AdaptiveAvgPool2d(output_size=(1, 1))\n",
       "  (fc): Linear(in_features=512, out_features=10, bias=True)\n",
       "  (dropout1): Dropout(p=0, inplace=False)\n",
       "  (dropout2): Dropout(p=0, inplace=False)\n",
       ")"
      ]
     },
     "execution_count": 31,
     "metadata": {},
     "output_type": "execute_result"
    }
   ],
   "source": [
    "model = to_device(model, device)\n",
    "model"
   ]
  },
  {
   "cell_type": "code",
   "execution_count": 32,
   "id": "c5637840",
   "metadata": {},
   "outputs": [],
   "source": [
    "def evaluate(model, val_loader):\n",
    "    model.eval()\n",
    "    outputs = [model.validation_step(batch) for batch in val_loader]\n",
    "    return model.validation_epoch_end(outputs)\n",
    "\n",
    "def get_lr(optimizer):\n",
    "    for param_group in optimizer.param_groups:\n",
    "        return param_group['lr']\n",
    "\n",
    "def fit_one_cycle(epochs, max_lr, model, train_loader, val_loader, \n",
    "                  weight_decay=0, grad_clip=None, opt_func=torch.optim.SGD):\n",
    "    torch.cuda.empty_cache()\n",
    "    history = []\n",
    "    \n",
    "    # Set up cutom optimizer with weight decay\n",
    "    optimizer = opt_func(model.parameters(), max_lr, weight_decay=weight_decay)\n",
    "    # Set up one-cycle learning rate scheduler\n",
    "    sched = torch.optim.lr_scheduler.OneCycleLR(optimizer, max_lr, epochs=epochs, \n",
    "                                                steps_per_epoch=len(train_loader))\n",
    "    \n",
    "    for epoch in range(epochs):\n",
    "        # Training Phase \n",
    "        model.train()\n",
    "        train_losses = []\n",
    "        lrs = []\n",
    "        for batch in train_loader:\n",
    "            loss = model.training_step(batch)\n",
    "            train_losses.append(loss)\n",
    "            loss.backward()\n",
    "            \n",
    "            # Gradient clipping\n",
    "            if grad_clip: \n",
    "                nn.utils.clip_grad_value_(model.parameters(), grad_clip)\n",
    "            \n",
    "            optimizer.step()\n",
    "            optimizer.zero_grad()\n",
    "            \n",
    "            # Record & update learning rate\n",
    "            lrs.append(get_lr(optimizer))\n",
    "            sched.step()\n",
    "        \n",
    "        # Validation phase\n",
    "        result = evaluate(model, val_loader)\n",
    "        result['train_loss'] = torch.stack(train_losses).mean().item()\n",
    "        result['lrs'] = lrs\n",
    "        model.epoch_end(epoch, result)\n",
    "        history.append(result)\n",
    "    return history"
   ]
  },
  {
   "cell_type": "markdown",
   "id": "32f0c973",
   "metadata": {},
   "source": [
    "## Hyperparameters"
   ]
  },
  {
   "cell_type": "code",
   "execution_count": 33,
   "id": "7e5e9c48",
   "metadata": {},
   "outputs": [],
   "source": [
    "epochs = 250\n",
    "max_lr = 0.01\n",
    "grad_clip = 0.1\n",
    "weight_decay = 1e-4\n",
    "opt_func = torch.optim.Adam"
   ]
  },
  {
   "cell_type": "code",
   "execution_count": 34,
   "id": "e8d80294",
   "metadata": {
    "scrolled": false
   },
   "outputs": [
    {
     "name": "stdout",
     "output_type": "stream",
     "text": [
      "Epoch [0], last_lr: 0.00040, train_loss: 2.1794, val_loss: 2.1531, val_acc: 0.3025\n",
      "Epoch [1], last_lr: 0.00042, train_loss: 2.1276, val_loss: 2.1057, val_acc: 0.3512\n",
      "Epoch [2], last_lr: 0.00044, train_loss: 2.1019, val_loss: 2.0679, val_acc: 0.3857\n",
      "Epoch [3], last_lr: 0.00047, train_loss: 2.0909, val_loss: 2.1238, val_acc: 0.3319\n",
      "Epoch [4], last_lr: 0.00050, train_loss: 2.0931, val_loss: 2.0964, val_acc: 0.3584\n",
      "Epoch [5], last_lr: 0.00055, train_loss: 2.0743, val_loss: 2.0966, val_acc: 0.3589\n",
      "Epoch [6], last_lr: 0.00060, train_loss: 2.0873, val_loss: 2.0710, val_acc: 0.3868\n",
      "Epoch [7], last_lr: 0.00067, train_loss: 2.0815, val_loss: 2.1036, val_acc: 0.3529\n",
      "Epoch [8], last_lr: 0.00074, train_loss: 2.0726, val_loss: 2.0869, val_acc: 0.3712\n",
      "Epoch [9], last_lr: 0.00081, train_loss: 2.0801, val_loss: 2.0560, val_acc: 0.4012\n",
      "Epoch [10], last_lr: 0.00090, train_loss: 2.0658, val_loss: 2.0964, val_acc: 0.3568\n",
      "Epoch [11], last_lr: 0.00099, train_loss: 2.0804, val_loss: 2.0697, val_acc: 0.3846\n",
      "Epoch [12], last_lr: 0.00109, train_loss: 2.0927, val_loss: 2.0592, val_acc: 0.3965\n",
      "Epoch [13], last_lr: 0.00120, train_loss: 2.0657, val_loss: 2.0994, val_acc: 0.3555\n",
      "Epoch [14], last_lr: 0.00131, train_loss: 2.0645, val_loss: 2.1064, val_acc: 0.3475\n",
      "Epoch [15], last_lr: 0.00144, train_loss: 2.0674, val_loss: 2.0684, val_acc: 0.3879\n",
      "Epoch [16], last_lr: 0.00156, train_loss: 2.0757, val_loss: 2.0715, val_acc: 0.3854\n",
      "Epoch [17], last_lr: 0.00170, train_loss: 2.0642, val_loss: 2.0678, val_acc: 0.3867\n",
      "Epoch [18], last_lr: 0.00184, train_loss: 2.0413, val_loss: 2.0520, val_acc: 0.4031\n",
      "Epoch [19], last_lr: 0.00199, train_loss: 2.0529, val_loss: 2.0550, val_acc: 0.4017\n",
      "Epoch [20], last_lr: 0.00214, train_loss: 2.0839, val_loss: 2.1335, val_acc: 0.3229\n",
      "Epoch [21], last_lr: 0.00230, train_loss: 2.0639, val_loss: 2.0765, val_acc: 0.3805\n",
      "Epoch [22], last_lr: 0.00246, train_loss: 2.0528, val_loss: 2.0386, val_acc: 0.4165\n",
      "Epoch [23], last_lr: 0.00263, train_loss: 2.0454, val_loss: 2.0649, val_acc: 0.3911\n",
      "Epoch [24], last_lr: 0.00280, train_loss: 2.0771, val_loss: 2.0600, val_acc: 0.3971\n",
      "Epoch [25], last_lr: 0.00297, train_loss: 2.0404, val_loss: 2.0260, val_acc: 0.4294\n",
      "Epoch [26], last_lr: 0.00315, train_loss: 2.0331, val_loss: 2.0662, val_acc: 0.3899\n",
      "Epoch [27], last_lr: 0.00334, train_loss: 2.0393, val_loss: 2.0364, val_acc: 0.4190\n",
      "Epoch [28], last_lr: 0.00352, train_loss: 2.0368, val_loss: 2.0509, val_acc: 0.4057\n",
      "Epoch [29], last_lr: 0.00371, train_loss: 2.0145, val_loss: 2.0387, val_acc: 0.4178\n",
      "Epoch [30], last_lr: 0.00391, train_loss: 2.0229, val_loss: 2.0752, val_acc: 0.3808\n",
      "Epoch [31], last_lr: 0.00410, train_loss: 2.0267, val_loss: 2.0468, val_acc: 0.4091\n",
      "Epoch [32], last_lr: 0.00430, train_loss: 2.0090, val_loss: 2.0124, val_acc: 0.4452\n",
      "Epoch [33], last_lr: 0.00450, train_loss: 2.0059, val_loss: 2.0356, val_acc: 0.4228\n",
      "Epoch [34], last_lr: 0.00470, train_loss: 2.0439, val_loss: 2.0121, val_acc: 0.4458\n",
      "Epoch [35], last_lr: 0.00490, train_loss: 2.0099, val_loss: 2.0008, val_acc: 0.4568\n",
      "Epoch [36], last_lr: 0.00510, train_loss: 2.0095, val_loss: 2.0326, val_acc: 0.4239\n",
      "Epoch [37], last_lr: 0.00530, train_loss: 2.0115, val_loss: 2.0151, val_acc: 0.4398\n",
      "Epoch [38], last_lr: 0.00550, train_loss: 1.9936, val_loss: 2.0351, val_acc: 0.4206\n",
      "Epoch [39], last_lr: 0.00570, train_loss: 2.0094, val_loss: 2.0599, val_acc: 0.3973\n",
      "Epoch [40], last_lr: 0.00590, train_loss: 2.0332, val_loss: 2.0313, val_acc: 0.4255\n",
      "Epoch [41], last_lr: 0.00610, train_loss: 1.9975, val_loss: 1.9941, val_acc: 0.4638\n",
      "Epoch [42], last_lr: 0.00629, train_loss: 2.0079, val_loss: 2.0434, val_acc: 0.4107\n",
      "Epoch [43], last_lr: 0.00649, train_loss: 2.0121, val_loss: 2.0264, val_acc: 0.4316\n",
      "Epoch [44], last_lr: 0.00668, train_loss: 2.0058, val_loss: 2.0324, val_acc: 0.4261\n",
      "Epoch [45], last_lr: 0.00687, train_loss: 2.0070, val_loss: 2.0235, val_acc: 0.4351\n",
      "Epoch [46], last_lr: 0.00706, train_loss: 2.0041, val_loss: 2.0126, val_acc: 0.4432\n",
      "Epoch [47], last_lr: 0.00724, train_loss: 2.0019, val_loss: 2.0146, val_acc: 0.4437\n",
      "Epoch [48], last_lr: 0.00742, train_loss: 2.0286, val_loss: 2.0344, val_acc: 0.4234\n",
      "Epoch [49], last_lr: 0.00760, train_loss: 2.0001, val_loss: 2.0469, val_acc: 0.4103\n",
      "Epoch [50], last_lr: 0.00777, train_loss: 2.0024, val_loss: 2.0157, val_acc: 0.4418\n",
      "Epoch [51], last_lr: 0.00794, train_loss: 2.0039, val_loss: 2.0095, val_acc: 0.4471\n",
      "Epoch [52], last_lr: 0.00810, train_loss: 2.0004, val_loss: 2.0283, val_acc: 0.4276\n",
      "Epoch [53], last_lr: 0.00826, train_loss: 2.0031, val_loss: 2.0091, val_acc: 0.4473\n",
      "Epoch [54], last_lr: 0.00841, train_loss: 1.9922, val_loss: 2.0164, val_acc: 0.4395\n",
      "Epoch [55], last_lr: 0.00856, train_loss: 1.9946, val_loss: 2.0469, val_acc: 0.4094\n",
      "Epoch [56], last_lr: 0.00870, train_loss: 2.0184, val_loss: 2.0685, val_acc: 0.3892\n",
      "Epoch [57], last_lr: 0.00883, train_loss: 2.0125, val_loss: 2.0531, val_acc: 0.4034\n",
      "Epoch [58], last_lr: 0.00896, train_loss: 2.0016, val_loss: 2.0314, val_acc: 0.4251\n",
      "Epoch [59], last_lr: 0.00908, train_loss: 1.9820, val_loss: 1.9869, val_acc: 0.4687\n",
      "Epoch [60], last_lr: 0.00920, train_loss: 1.9925, val_loss: 2.0192, val_acc: 0.4375\n",
      "Epoch [61], last_lr: 0.00931, train_loss: 2.0098, val_loss: 2.0639, val_acc: 0.3937\n",
      "Epoch [62], last_lr: 0.00941, train_loss: 2.0121, val_loss: 2.0219, val_acc: 0.4345\n",
      "Epoch [63], last_lr: 0.00950, train_loss: 2.0058, val_loss: 2.0633, val_acc: 0.3922\n",
      "Epoch [64], last_lr: 0.00958, train_loss: 1.9949, val_loss: 1.9962, val_acc: 0.4620\n",
      "Epoch [65], last_lr: 0.00966, train_loss: 2.0286, val_loss: 2.0298, val_acc: 0.4284\n",
      "Epoch [66], last_lr: 0.00973, train_loss: 2.0309, val_loss: 2.0781, val_acc: 0.3788\n",
      "Epoch [67], last_lr: 0.00980, train_loss: 2.0305, val_loss: 2.0552, val_acc: 0.4014\n",
      "Epoch [68], last_lr: 0.00985, train_loss: 2.0224, val_loss: 1.9875, val_acc: 0.4705\n",
      "Epoch [69], last_lr: 0.00990, train_loss: 2.0033, val_loss: 2.0165, val_acc: 0.4413\n",
      "Epoch [70], last_lr: 0.00993, train_loss: 1.9877, val_loss: 2.0132, val_acc: 0.4437\n",
      "Epoch [71], last_lr: 0.00996, train_loss: 1.9969, val_loss: 1.9791, val_acc: 0.4790\n",
      "Epoch [72], last_lr: 0.00998, train_loss: 1.9860, val_loss: 1.9698, val_acc: 0.4896\n",
      "Epoch [73], last_lr: 0.01000, train_loss: 2.0055, val_loss: 1.9972, val_acc: 0.4605\n",
      "Epoch [74], last_lr: 0.01000, train_loss: 2.0004, val_loss: 2.0039, val_acc: 0.4551\n",
      "Epoch [75], last_lr: 0.01000, train_loss: 1.9899, val_loss: 2.0922, val_acc: 0.3651\n",
      "Epoch [76], last_lr: 0.01000, train_loss: 2.0022, val_loss: 1.9919, val_acc: 0.4664\n",
      "Epoch [77], last_lr: 0.00999, train_loss: 1.9987, val_loss: 2.0521, val_acc: 0.4062\n",
      "Epoch [78], last_lr: 0.00999, train_loss: 1.9979, val_loss: 1.9943, val_acc: 0.4618\n",
      "Epoch [79], last_lr: 0.00998, train_loss: 1.9720, val_loss: 2.0012, val_acc: 0.4558\n",
      "Epoch [80], last_lr: 0.00997, train_loss: 2.0042, val_loss: 2.0232, val_acc: 0.4337\n",
      "Epoch [81], last_lr: 0.00996, train_loss: 2.0138, val_loss: 2.0253, val_acc: 0.4324\n",
      "Epoch [82], last_lr: 0.00995, train_loss: 2.0065, val_loss: 2.0117, val_acc: 0.4462\n",
      "Epoch [83], last_lr: 0.00993, train_loss: 1.9824, val_loss: 2.0189, val_acc: 0.4390\n",
      "Epoch [84], last_lr: 0.00992, train_loss: 1.9916, val_loss: 2.0418, val_acc: 0.4137\n",
      "Epoch [85], last_lr: 0.00990, train_loss: 1.9885, val_loss: 1.9888, val_acc: 0.4679\n",
      "Epoch [86], last_lr: 0.00988, train_loss: 1.9825, val_loss: 1.9842, val_acc: 0.4744\n",
      "Epoch [87], last_lr: 0.00986, train_loss: 1.9766, val_loss: 1.9897, val_acc: 0.4680\n",
      "Epoch [88], last_lr: 0.00984, train_loss: 1.9777, val_loss: 2.0253, val_acc: 0.4332\n",
      "Epoch [89], last_lr: 0.00982, train_loss: 1.9881, val_loss: 2.0038, val_acc: 0.4552\n",
      "Epoch [90], last_lr: 0.00980, train_loss: 1.9817, val_loss: 2.0390, val_acc: 0.4210\n",
      "Epoch [91], last_lr: 0.00977, train_loss: 1.9894, val_loss: 2.0172, val_acc: 0.4426\n",
      "Epoch [92], last_lr: 0.00974, train_loss: 1.9967, val_loss: 2.0051, val_acc: 0.4528\n",
      "Epoch [93], last_lr: 0.00971, train_loss: 1.9729, val_loss: 1.9767, val_acc: 0.4801\n",
      "Epoch [94], last_lr: 0.00968, train_loss: 1.9901, val_loss: 1.9760, val_acc: 0.4816\n",
      "Epoch [95], last_lr: 0.00965, train_loss: 1.9741, val_loss: 1.9836, val_acc: 0.4743\n",
      "Epoch [96], last_lr: 0.00962, train_loss: 1.9903, val_loss: 1.9639, val_acc: 0.4941\n",
      "Epoch [97], last_lr: 0.00958, train_loss: 1.9805, val_loss: 2.0031, val_acc: 0.4534\n"
     ]
    },
    {
     "name": "stdout",
     "output_type": "stream",
     "text": [
      "Epoch [98], last_lr: 0.00954, train_loss: 1.9712, val_loss: 1.9872, val_acc: 0.4716\n",
      "Epoch [99], last_lr: 0.00950, train_loss: 1.9885, val_loss: 2.0068, val_acc: 0.4512\n",
      "Epoch [100], last_lr: 0.00947, train_loss: 1.9723, val_loss: 1.9677, val_acc: 0.4900\n",
      "Epoch [101], last_lr: 0.00942, train_loss: 1.9535, val_loss: 1.9918, val_acc: 0.4665\n",
      "Epoch [102], last_lr: 0.00938, train_loss: 1.9654, val_loss: 2.0050, val_acc: 0.4539\n",
      "Epoch [103], last_lr: 0.00934, train_loss: 1.9683, val_loss: 2.0094, val_acc: 0.4480\n",
      "Epoch [104], last_lr: 0.00929, train_loss: 1.9663, val_loss: 2.0276, val_acc: 0.4295\n",
      "Epoch [105], last_lr: 0.00925, train_loss: 1.9527, val_loss: 1.9782, val_acc: 0.4787\n",
      "Epoch [106], last_lr: 0.00920, train_loss: 1.9630, val_loss: 1.9644, val_acc: 0.4905\n",
      "Epoch [107], last_lr: 0.00915, train_loss: 1.9429, val_loss: 1.9797, val_acc: 0.4778\n",
      "Epoch [108], last_lr: 0.00910, train_loss: 1.9375, val_loss: 1.9488, val_acc: 0.5076\n",
      "Epoch [109], last_lr: 0.00905, train_loss: 1.9407, val_loss: 1.9957, val_acc: 0.4631\n",
      "Epoch [110], last_lr: 0.00899, train_loss: 1.9536, val_loss: 1.9917, val_acc: 0.4660\n",
      "Epoch [111], last_lr: 0.00894, train_loss: 1.9443, val_loss: 1.9706, val_acc: 0.4871\n",
      "Epoch [112], last_lr: 0.00888, train_loss: 1.9693, val_loss: 1.9701, val_acc: 0.4880\n",
      "Epoch [113], last_lr: 0.00882, train_loss: 1.9550, val_loss: 1.9750, val_acc: 0.4823\n",
      "Epoch [114], last_lr: 0.00877, train_loss: 1.9269, val_loss: 1.9359, val_acc: 0.5222\n",
      "Epoch [115], last_lr: 0.00871, train_loss: 1.9283, val_loss: 1.9440, val_acc: 0.5134\n",
      "Epoch [116], last_lr: 0.00864, train_loss: 1.9273, val_loss: 1.9472, val_acc: 0.5106\n",
      "Epoch [117], last_lr: 0.00858, train_loss: 1.9219, val_loss: 1.9882, val_acc: 0.4687\n",
      "Epoch [118], last_lr: 0.00852, train_loss: 1.9393, val_loss: 1.9912, val_acc: 0.4647\n",
      "Epoch [119], last_lr: 0.00846, train_loss: 1.9344, val_loss: 1.9340, val_acc: 0.5234\n",
      "Epoch [120], last_lr: 0.00839, train_loss: 1.9240, val_loss: 1.9540, val_acc: 0.5051\n",
      "Epoch [121], last_lr: 0.00832, train_loss: 1.9334, val_loss: 1.9218, val_acc: 0.5361\n",
      "Epoch [122], last_lr: 0.00826, train_loss: 1.9111, val_loss: 1.9157, val_acc: 0.5437\n",
      "Epoch [123], last_lr: 0.00819, train_loss: 1.9109, val_loss: 1.9285, val_acc: 0.5282\n",
      "Epoch [124], last_lr: 0.00812, train_loss: 1.9238, val_loss: 1.9290, val_acc: 0.5298\n",
      "Epoch [125], last_lr: 0.00805, train_loss: 1.9136, val_loss: 1.9183, val_acc: 0.5409\n",
      "Epoch [126], last_lr: 0.00798, train_loss: 1.9165, val_loss: 1.9545, val_acc: 0.5015\n",
      "Epoch [127], last_lr: 0.00790, train_loss: 1.9303, val_loss: 1.9138, val_acc: 0.5451\n",
      "Epoch [128], last_lr: 0.00783, train_loss: 1.9124, val_loss: 1.9250, val_acc: 0.5335\n",
      "Epoch [129], last_lr: 0.00775, train_loss: 1.9127, val_loss: 1.9517, val_acc: 0.5038\n",
      "Epoch [130], last_lr: 0.00768, train_loss: 1.9053, val_loss: 1.8946, val_acc: 0.5650\n",
      "Epoch [131], last_lr: 0.00760, train_loss: 1.9167, val_loss: 1.9187, val_acc: 0.5404\n",
      "Epoch [132], last_lr: 0.00753, train_loss: 1.9139, val_loss: 1.9140, val_acc: 0.5444\n",
      "Epoch [133], last_lr: 0.00745, train_loss: 1.9002, val_loss: 1.9169, val_acc: 0.5408\n",
      "Epoch [134], last_lr: 0.00737, train_loss: 1.9081, val_loss: 1.9307, val_acc: 0.5268\n",
      "Epoch [135], last_lr: 0.00729, train_loss: 1.9042, val_loss: 1.8996, val_acc: 0.5578\n",
      "Epoch [136], last_lr: 0.00721, train_loss: 1.8950, val_loss: 1.9241, val_acc: 0.5339\n",
      "Epoch [137], last_lr: 0.00713, train_loss: 1.9003, val_loss: 1.9060, val_acc: 0.5514\n",
      "Epoch [138], last_lr: 0.00705, train_loss: 1.9034, val_loss: 1.9065, val_acc: 0.5521\n",
      "Epoch [139], last_lr: 0.00697, train_loss: 1.9009, val_loss: 1.9195, val_acc: 0.5387\n",
      "Epoch [140], last_lr: 0.00688, train_loss: 1.8877, val_loss: 1.8920, val_acc: 0.5668\n",
      "Epoch [141], last_lr: 0.00680, train_loss: 1.8900, val_loss: 1.9082, val_acc: 0.5508\n",
      "Epoch [142], last_lr: 0.00671, train_loss: 1.8838, val_loss: 1.9006, val_acc: 0.5580\n",
      "Epoch [143], last_lr: 0.00663, train_loss: 1.8805, val_loss: 1.8898, val_acc: 0.5682\n",
      "Epoch [144], last_lr: 0.00655, train_loss: 1.8884, val_loss: 1.9143, val_acc: 0.5448\n",
      "Epoch [145], last_lr: 0.00646, train_loss: 1.8886, val_loss: 1.8938, val_acc: 0.5640\n",
      "Epoch [146], last_lr: 0.00637, train_loss: 1.8582, val_loss: 1.8813, val_acc: 0.5777\n",
      "Epoch [147], last_lr: 0.00629, train_loss: 1.8746, val_loss: 1.8722, val_acc: 0.5860\n",
      "Epoch [148], last_lr: 0.00620, train_loss: 1.8716, val_loss: 1.8909, val_acc: 0.5667\n",
      "Epoch [149], last_lr: 0.00611, train_loss: 1.8653, val_loss: 1.8742, val_acc: 0.5844\n",
      "Epoch [150], last_lr: 0.00602, train_loss: 1.8641, val_loss: 1.8679, val_acc: 0.5921\n",
      "Epoch [151], last_lr: 0.00594, train_loss: 1.8632, val_loss: 1.8889, val_acc: 0.5690\n",
      "Epoch [152], last_lr: 0.00585, train_loss: 1.8715, val_loss: 1.8939, val_acc: 0.5649\n",
      "Epoch [153], last_lr: 0.00576, train_loss: 1.8688, val_loss: 1.8783, val_acc: 0.5789\n",
      "Epoch [154], last_lr: 0.00567, train_loss: 1.8636, val_loss: 1.8864, val_acc: 0.5706\n",
      "Epoch [155], last_lr: 0.00558, train_loss: 1.8616, val_loss: 1.8650, val_acc: 0.5945\n",
      "Epoch [156], last_lr: 0.00549, train_loss: 1.8484, val_loss: 1.8786, val_acc: 0.5812\n",
      "Epoch [157], last_lr: 0.00540, train_loss: 1.8577, val_loss: 1.8898, val_acc: 0.5681\n",
      "Epoch [158], last_lr: 0.00531, train_loss: 1.8524, val_loss: 1.8895, val_acc: 0.5677\n",
      "Epoch [159], last_lr: 0.00522, train_loss: 1.8585, val_loss: 1.9043, val_acc: 0.5546\n",
      "Epoch [160], last_lr: 0.00513, train_loss: 1.8528, val_loss: 1.8853, val_acc: 0.5728\n",
      "Epoch [161], last_lr: 0.00504, train_loss: 1.8550, val_loss: 1.8726, val_acc: 0.5862\n",
      "Epoch [162], last_lr: 0.00496, train_loss: 1.8511, val_loss: 1.8654, val_acc: 0.5950\n",
      "Epoch [163], last_lr: 0.00487, train_loss: 1.8472, val_loss: 1.8740, val_acc: 0.5835\n",
      "Epoch [164], last_lr: 0.00478, train_loss: 1.8496, val_loss: 1.8624, val_acc: 0.5960\n",
      "Epoch [165], last_lr: 0.00469, train_loss: 1.8354, val_loss: 1.8684, val_acc: 0.5923\n",
      "Epoch [166], last_lr: 0.00460, train_loss: 1.8299, val_loss: 1.8566, val_acc: 0.6014\n",
      "Epoch [167], last_lr: 0.00451, train_loss: 1.8425, val_loss: 1.8747, val_acc: 0.5825\n",
      "Epoch [168], last_lr: 0.00442, train_loss: 1.8432, val_loss: 1.8676, val_acc: 0.5911\n",
      "Epoch [169], last_lr: 0.00433, train_loss: 1.8276, val_loss: 1.8692, val_acc: 0.5889\n",
      "Epoch [170], last_lr: 0.00424, train_loss: 1.8302, val_loss: 1.8423, val_acc: 0.6177\n",
      "Epoch [171], last_lr: 0.00415, train_loss: 1.8362, val_loss: 1.8474, val_acc: 0.6101\n",
      "Epoch [172], last_lr: 0.00406, train_loss: 1.8302, val_loss: 1.8577, val_acc: 0.6008\n",
      "Epoch [173], last_lr: 0.00398, train_loss: 1.8417, val_loss: 1.8512, val_acc: 0.6069\n",
      "Epoch [174], last_lr: 0.00389, train_loss: 1.8225, val_loss: 1.8579, val_acc: 0.6005\n",
      "Epoch [175], last_lr: 0.00380, train_loss: 1.8249, val_loss: 1.8486, val_acc: 0.6091\n",
      "Epoch [176], last_lr: 0.00371, train_loss: 1.8229, val_loss: 1.8573, val_acc: 0.6020\n",
      "Epoch [177], last_lr: 0.00363, train_loss: 1.8181, val_loss: 1.8456, val_acc: 0.6128\n",
      "Epoch [178], last_lr: 0.00354, train_loss: 1.8110, val_loss: 1.8476, val_acc: 0.6120\n",
      "Epoch [179], last_lr: 0.00345, train_loss: 1.8098, val_loss: 1.8614, val_acc: 0.5964\n",
      "Epoch [180], last_lr: 0.00337, train_loss: 1.8059, val_loss: 1.8524, val_acc: 0.6074\n",
      "Epoch [181], last_lr: 0.00329, train_loss: 1.8016, val_loss: 1.8319, val_acc: 0.6286\n",
      "Epoch [182], last_lr: 0.00320, train_loss: 1.7945, val_loss: 1.8381, val_acc: 0.6217\n",
      "Epoch [183], last_lr: 0.00312, train_loss: 1.7991, val_loss: 1.8307, val_acc: 0.6288\n",
      "Epoch [184], last_lr: 0.00303, train_loss: 1.8026, val_loss: 1.8413, val_acc: 0.6175\n",
      "Epoch [185], last_lr: 0.00295, train_loss: 1.7977, val_loss: 1.8468, val_acc: 0.6114\n",
      "Epoch [186], last_lr: 0.00287, train_loss: 1.7984, val_loss: 1.8262, val_acc: 0.6327\n",
      "Epoch [187], last_lr: 0.00279, train_loss: 1.7921, val_loss: 1.8335, val_acc: 0.6273\n",
      "Epoch [188], last_lr: 0.00271, train_loss: 1.7933, val_loss: 1.8313, val_acc: 0.6285\n",
      "Epoch [189], last_lr: 0.00263, train_loss: 1.7898, val_loss: 1.8355, val_acc: 0.6223\n",
      "Epoch [190], last_lr: 0.00255, train_loss: 1.7872, val_loss: 1.8381, val_acc: 0.6199\n",
      "Epoch [191], last_lr: 0.00247, train_loss: 1.7885, val_loss: 1.8279, val_acc: 0.6301\n",
      "Epoch [192], last_lr: 0.00240, train_loss: 1.7937, val_loss: 1.8315, val_acc: 0.6285\n",
      "Epoch [193], last_lr: 0.00232, train_loss: 1.7914, val_loss: 1.8274, val_acc: 0.6315\n",
      "Epoch [194], last_lr: 0.00225, train_loss: 1.7810, val_loss: 1.8299, val_acc: 0.6298\n"
     ]
    },
    {
     "name": "stdout",
     "output_type": "stream",
     "text": [
      "Epoch [195], last_lr: 0.00217, train_loss: 1.7776, val_loss: 1.8345, val_acc: 0.6247\n",
      "Epoch [196], last_lr: 0.00210, train_loss: 1.7826, val_loss: 1.8195, val_acc: 0.6406\n",
      "Epoch [197], last_lr: 0.00202, train_loss: 1.7806, val_loss: 1.8206, val_acc: 0.6377\n",
      "Epoch [198], last_lr: 0.00195, train_loss: 1.7750, val_loss: 1.8267, val_acc: 0.6318\n",
      "Epoch [199], last_lr: 0.00188, train_loss: 1.7713, val_loss: 1.8193, val_acc: 0.6392\n",
      "Epoch [200], last_lr: 0.00181, train_loss: 1.7654, val_loss: 1.8134, val_acc: 0.6464\n",
      "Epoch [201], last_lr: 0.00174, train_loss: 1.7677, val_loss: 1.8130, val_acc: 0.6454\n",
      "Epoch [202], last_lr: 0.00168, train_loss: 1.7654, val_loss: 1.8123, val_acc: 0.6456\n",
      "Epoch [203], last_lr: 0.00161, train_loss: 1.7639, val_loss: 1.8151, val_acc: 0.6441\n",
      "Epoch [204], last_lr: 0.00154, train_loss: 1.7643, val_loss: 1.8147, val_acc: 0.6438\n",
      "Epoch [205], last_lr: 0.00148, train_loss: 1.7589, val_loss: 1.8150, val_acc: 0.6452\n",
      "Epoch [206], last_lr: 0.00142, train_loss: 1.7588, val_loss: 1.8088, val_acc: 0.6510\n",
      "Epoch [207], last_lr: 0.00136, train_loss: 1.7582, val_loss: 1.8118, val_acc: 0.6491\n",
      "Epoch [208], last_lr: 0.00129, train_loss: 1.7552, val_loss: 1.8070, val_acc: 0.6526\n",
      "Epoch [209], last_lr: 0.00123, train_loss: 1.7522, val_loss: 1.8062, val_acc: 0.6531\n",
      "Epoch [210], last_lr: 0.00118, train_loss: 1.7456, val_loss: 1.8048, val_acc: 0.6545\n",
      "Epoch [211], last_lr: 0.00112, train_loss: 1.7532, val_loss: 1.8086, val_acc: 0.6504\n",
      "Epoch [212], last_lr: 0.00106, train_loss: 1.7457, val_loss: 1.8092, val_acc: 0.6512\n",
      "Epoch [213], last_lr: 0.00101, train_loss: 1.7443, val_loss: 1.8010, val_acc: 0.6583\n",
      "Epoch [214], last_lr: 0.00095, train_loss: 1.7447, val_loss: 1.8004, val_acc: 0.6606\n",
      "Epoch [215], last_lr: 0.00090, train_loss: 1.7483, val_loss: 1.8074, val_acc: 0.6522\n",
      "Epoch [216], last_lr: 0.00085, train_loss: 1.7387, val_loss: 1.8023, val_acc: 0.6575\n",
      "Epoch [217], last_lr: 0.00080, train_loss: 1.7358, val_loss: 1.8051, val_acc: 0.6554\n",
      "Epoch [218], last_lr: 0.00075, train_loss: 1.7416, val_loss: 1.8060, val_acc: 0.6538\n",
      "Epoch [219], last_lr: 0.00071, train_loss: 1.7430, val_loss: 1.8010, val_acc: 0.6576\n",
      "Epoch [220], last_lr: 0.00066, train_loss: 1.7272, val_loss: 1.8031, val_acc: 0.6578\n",
      "Epoch [221], last_lr: 0.00062, train_loss: 1.7416, val_loss: 1.8030, val_acc: 0.6559\n",
      "Epoch [222], last_lr: 0.00058, train_loss: 1.7332, val_loss: 1.8005, val_acc: 0.6599\n",
      "Epoch [223], last_lr: 0.00053, train_loss: 1.7320, val_loss: 1.7991, val_acc: 0.6601\n",
      "Epoch [224], last_lr: 0.00050, train_loss: 1.7252, val_loss: 1.7987, val_acc: 0.6621\n",
      "Epoch [225], last_lr: 0.00046, train_loss: 1.7340, val_loss: 1.8017, val_acc: 0.6570\n",
      "Epoch [226], last_lr: 0.00042, train_loss: 1.7330, val_loss: 1.7998, val_acc: 0.6599\n",
      "Epoch [227], last_lr: 0.00038, train_loss: 1.7229, val_loss: 1.7988, val_acc: 0.6618\n",
      "Epoch [228], last_lr: 0.00035, train_loss: 1.7341, val_loss: 1.7977, val_acc: 0.6620\n",
      "Epoch [229], last_lr: 0.00032, train_loss: 1.7265, val_loss: 1.8003, val_acc: 0.6599\n",
      "Epoch [230], last_lr: 0.00029, train_loss: 1.7275, val_loss: 1.7999, val_acc: 0.6610\n",
      "Epoch [231], last_lr: 0.00026, train_loss: 1.7233, val_loss: 1.7988, val_acc: 0.6605\n",
      "Epoch [232], last_lr: 0.00023, train_loss: 1.7200, val_loss: 1.7986, val_acc: 0.6601\n",
      "Epoch [233], last_lr: 0.00020, train_loss: 1.7228, val_loss: 1.7978, val_acc: 0.6606\n",
      "Epoch [234], last_lr: 0.00018, train_loss: 1.7256, val_loss: 1.7979, val_acc: 0.6612\n",
      "Epoch [235], last_lr: 0.00016, train_loss: 1.7192, val_loss: 1.7973, val_acc: 0.6616\n",
      "Epoch [236], last_lr: 0.00014, train_loss: 1.7220, val_loss: 1.7970, val_acc: 0.6632\n",
      "Epoch [237], last_lr: 0.00012, train_loss: 1.7235, val_loss: 1.7975, val_acc: 0.6620\n",
      "Epoch [238], last_lr: 0.00010, train_loss: 1.7200, val_loss: 1.7965, val_acc: 0.6643\n",
      "Epoch [239], last_lr: 0.00008, train_loss: 1.7207, val_loss: 1.7969, val_acc: 0.6623\n",
      "Epoch [240], last_lr: 0.00007, train_loss: 1.7194, val_loss: 1.7969, val_acc: 0.6636\n",
      "Epoch [241], last_lr: 0.00005, train_loss: 1.7193, val_loss: 1.7965, val_acc: 0.6650\n",
      "Epoch [242], last_lr: 0.00004, train_loss: 1.7233, val_loss: 1.7966, val_acc: 0.6627\n",
      "Epoch [243], last_lr: 0.00003, train_loss: 1.7226, val_loss: 1.7965, val_acc: 0.6636\n",
      "Epoch [244], last_lr: 0.00002, train_loss: 1.7202, val_loss: 1.7961, val_acc: 0.6658\n",
      "Epoch [245], last_lr: 0.00001, train_loss: 1.7137, val_loss: 1.7964, val_acc: 0.6640\n",
      "Epoch [246], last_lr: 0.00001, train_loss: 1.7142, val_loss: 1.7963, val_acc: 0.6640\n",
      "Epoch [247], last_lr: 0.00000, train_loss: 1.7176, val_loss: 1.7957, val_acc: 0.6646\n",
      "Epoch [248], last_lr: 0.00000, train_loss: 1.7188, val_loss: 1.7960, val_acc: 0.6643\n",
      "Epoch [249], last_lr: 0.00000, train_loss: 1.7247, val_loss: 1.7960, val_acc: 0.6642\n"
     ]
    }
   ],
   "source": [
    "history=[]\n",
    "\n",
    "history += fit_one_cycle(epochs, max_lr, model, train_dl, valid_dl, \n",
    "                             grad_clip=grad_clip, \n",
    "                             weight_decay=weight_decay, \n",
    "                             opt_func=opt_func)"
   ]
  },
  {
   "cell_type": "markdown",
   "id": "ac82e4c4",
   "metadata": {},
   "source": [
    "## Plotting"
   ]
  },
  {
   "cell_type": "code",
   "execution_count": 35,
   "id": "4b9a183f",
   "metadata": {},
   "outputs": [],
   "source": [
    "def plot_accuracies(history):\n",
    "    accuracies = [x['val_acc'] for x in history]\n",
    "    plt.plot(accuracies, '-x')\n",
    "    plt.xlabel('epoch')\n",
    "    plt.ylabel('accuracy')\n",
    "    plt.title('Accuracy vs. No. of epochs');"
   ]
  },
  {
   "cell_type": "code",
   "execution_count": 36,
   "id": "3802f3be",
   "metadata": {},
   "outputs": [
    {
     "data": {
      "image/png": "[encoded data removed]",
      "text/plain": [
       "<Figure size 432x288 with 1 Axes>"
      ]
     },
     "metadata": {},
     "output_type": "display_data"
    }
   ],
   "source": [
    "plot_accuracies(history)"
   ]
  },
  {
   "cell_type": "code",
   "execution_count": 37,
   "id": "becfdf5e",
   "metadata": {},
   "outputs": [],
   "source": [
    "def plot_losses(history):\n",
    "    train_losses = [x.get('train_loss') for x in history]\n",
    "    val_losses = [x['val_loss'] for x in history]\n",
    "    plt.plot(train_losses, '-bx')\n",
    "    plt.plot(val_losses, '-rx')\n",
    "    plt.xlabel('epoch')\n",
    "    plt.ylabel('loss')\n",
    "    plt.legend(['Training', 'Validation'])\n",
    "    plt.title('Loss vs. No. of epochs');"
   ]
  },
  {
   "cell_type": "code",
   "execution_count": 38,
   "id": "3c6e9aa3",
   "metadata": {},
   "outputs": [
    {
     "data": {
      "image/png": "[encoded data removed]",
      "text/plain": [
       "<Figure size 432x288 with 1 Axes>"
      ]
     },
     "metadata": {},
     "output_type": "display_data"
    }
   ],
   "source": [
    "plot_losses(history)"
   ]
  },
  {
   "cell_type": "code",
   "execution_count": 39,
   "id": "896a9cd8",
   "metadata": {},
   "outputs": [],
   "source": [
    "def plot_lrs(history):\n",
    "    lrs = np.concatenate([x.get('lrs', []) for x in history])\n",
    "    plt.plot(lrs)\n",
    "    plt.xlabel('Batch no.')\n",
    "    plt.ylabel('Learning rate')\n",
    "    plt.title('Learning Rate vs. Batch no.');"
   ]
  },
  {
   "cell_type": "code",
   "execution_count": 40,
   "id": "a76813b7",
   "metadata": {
    "scrolled": true
   },
   "outputs": [
    {
     "data": {
      "image/png": "[encoded data removed]",
      "text/plain": [
       "<Figure size 432x288 with 1 Axes>"
      ]
     },
     "metadata": {},
     "output_type": "display_data"
    }
   ],
   "source": [
    "plot_lrs(history)"
   ]
  },
  {
   "cell_type": "markdown",
   "id": "d1e817d1",
   "metadata": {},
   "source": [
    "## Testing model"
   ]
  },
  {
   "cell_type": "code",
   "execution_count": 41,
   "id": "805a079e",
   "metadata": {},
   "outputs": [],
   "source": [
    "def predict_image(img, model):\n",
    "    # Convert to a batch of 1\n",
    "    xb = to_device(img.unsqueeze(0), device)\n",
    "    # Get predictions from model\n",
    "    yb = model(xb)\n",
    "    # Pick index with highest probability\n",
    "    _, preds  = torch.max(yb, dim=1)\n",
    "    # Retrieve the class label\n",
    "    return train_ds.classes[preds[0].item()]"
   ]
  },
  {
   "cell_type": "code",
   "execution_count": 42,
   "id": "41d760ec",
   "metadata": {},
   "outputs": [
    {
     "name": "stdout",
     "output_type": "stream",
     "text": [
      "Label: airplane , Predicted: airplane\n"
     ]
    },
    {
     "data": {
      "image/png": "[encoded data removed]",
      "text/plain": [
       "<Figure size 432x288 with 1 Axes>"
      ]
     },
     "metadata": {},
     "output_type": "display_data"
    }
   ],
   "source": [
    "img, label = valid_ds[0]\n",
    "plt.imshow(img.permute(1, 2, 0).clamp(0, 1))\n",
    "print('Label:', train_ds.classes[label], ', Predicted:', predict_image(img, model))"
   ]
  },
  {
   "cell_type": "code",
   "execution_count": 43,
   "id": "c2cbeb58",
   "metadata": {},
   "outputs": [
    {
     "name": "stderr",
     "output_type": "stream",
     "text": [
      "Clipping input data to the valid range for imshow with RGB data ([0..1] for floats or [0..255] for integers).\n"
     ]
    },
    {
     "name": "stdout",
     "output_type": "stream",
     "text": [
      "Label: automobile , Predicted: automobile\n"
     ]
    },
    {
     "data": {
      "image/png": "[encoded data removed]",
      "text/plain": [
       "<Figure size 432x288 with 1 Axes>"
      ]
     },
     "metadata": {},
     "output_type": "display_data"
    }
   ],
   "source": [
    "img, label = valid_ds[1002]\n",
    "plt.imshow(img.permute(1, 2, 0))\n",
    "print('Label:', valid_ds.classes[label], ', Predicted:', predict_image(img, model))"
   ]
  },
  {
   "cell_type": "code",
   "execution_count": 44,
   "id": "5a7ad38f",
   "metadata": {
    "scrolled": true
   },
   "outputs": [
    {
     "name": "stderr",
     "output_type": "stream",
     "text": [
      "Clipping input data to the valid range for imshow with RGB data ([0..1] for floats or [0..255] for integers).\n"
     ]
    },
    {
     "name": "stdout",
     "output_type": "stream",
     "text": [
      "Label: frog , Predicted: frog\n"
     ]
    },
    {
     "data": {
      "image/png": "[encoded data removed]",
      "text/plain": [
       "<Figure size 432x288 with 1 Axes>"
      ]
     },
     "metadata": {},
     "output_type": "display_data"
    }
   ],
   "source": [
    "img, label = valid_ds[6153]\n",
    "plt.imshow(img.permute(1, 2, 0))\n",
    "print('Label:', train_ds.classes[label], ', Predicted:', predict_image(img, model))"
   ]
  }
 ],
 "metadata": {
  "kernelspec": {
   "display_name": "Python 3 (ipykernel)",
   "language": "python",
   "name": "python3"
  },
  "language_info": {
   "codemirror_mode": {
    "name": "ipython",
    "version": 3
   },
   "file_extension": ".py",
   "mimetype": "text/x-python",
   "name": "python",
   "nbconvert_exporter": "python",
   "pygments_lexer": "ipython3",
   "version": "3.9.12"
  }
 },
 "nbformat": 4,
 "nbformat_minor": 5
}
